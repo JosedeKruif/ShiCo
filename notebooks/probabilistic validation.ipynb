{
 "cells": [
  {
   "cell_type": "code",
   "execution_count": 28,
   "metadata": {
    "collapsed": false
   },
   "outputs": [],
   "source": [
    "%matplotlib inline"
   ]
  },
  {
   "cell_type": "code",
   "execution_count": 29,
   "metadata": {
    "collapsed": true
   },
   "outputs": [],
   "source": [
    "import matplotlib.pyplot as plt"
   ]
  },
  {
   "cell_type": "code",
   "execution_count": 2,
   "metadata": {
    "collapsed": false
   },
   "outputs": [],
   "source": [
    "import gensim"
   ]
  },
  {
   "cell_type": "code",
   "execution_count": 3,
   "metadata": {
    "collapsed": true
   },
   "outputs": [],
   "source": [
    "models_dn = '/home/patrick/projects/ShiCo Sprint/'"
   ]
  },
  {
   "cell_type": "code",
   "execution_count": 34,
   "metadata": {
    "collapsed": false
   },
   "outputs": [],
   "source": [
    "m1 = model_1950_10y = gensim.models.Word2Vec.load_word2vec_format(models_dn + '1950_1959.w2v', binary=True)\n",
    "m2 = model_1951_10y = gensim.models.Word2Vec.load_word2vec_format(models_dn + '1951_1960.w2v', binary=True)"
   ]
  },
  {
   "cell_type": "code",
   "execution_count": 35,
   "metadata": {
    "collapsed": false,
    "scrolled": true
   },
   "outputs": [
    {
     "data": {
      "text/plain": [
       "(692536, 749216)"
      ]
     },
     "execution_count": 35,
     "metadata": {},
     "output_type": "execute_result"
    }
   ],
   "source": [
    "len(model_1950_10y.vocab), len(model_1951_10y.vocab)"
   ]
  },
  {
   "cell_type": "code",
   "execution_count": 6,
   "metadata": {
    "collapsed": false,
    "scrolled": true
   },
   "outputs": [
    {
     "data": {
      "text/plain": [
       "(u'soestdijk',\n",
       " array([ -4.52765226e-02,  -9.59455408e-03,  -5.47450744e-02,  -8.83632712e-03,  -4.54782695e-02,  -2.34968658e-03,   1.08226184e-02,   7.73906335e-02,  -6.47000521e-02,   2.38308012e-02,   1.35508003e-02,  -4.89134341e-02,   2.14892849e-02,  -6.26335572e-03,  -8.54833424e-02,  -2.81838626e-02,   3.33223753e-02,  -1.52561799e-01,  -1.50172248e-01,   1.58873666e-02,   9.14644971e-02,   2.20680423e-02,  -9.54224765e-02,  -5.51822372e-02,   2.03315224e-02,  -3.78677770e-02,   5.11995032e-02,\n",
       "         -2.71914583e-02,  -1.03968436e-04,   1.12740889e-01,   1.28194824e-01,   3.40454541e-02,  -2.41696909e-02,  -3.15833837e-02,  -1.96827091e-02,  -9.32195857e-02,   1.41936718e-02,  -8.65331739e-02,   7.44958594e-02,  -3.06588057e-02,   3.35171968e-02,  -4.14636033e-03,   7.78040364e-02,   7.21481591e-02,  -4.38162573e-02,   5.04246913e-04,   2.90980414e-02,  -3.36944386e-02,   4.60753450e-03,   3.50512266e-02,  -5.51458485e-02,   1.69337094e-01,   1.36310039e-02,  -1.93005018e-02,\n",
       "          1.16440684e-01,   9.44587886e-02,  -6.22050613e-02,   1.65512804e-02,   5.58649637e-02,   1.78558361e-02,   7.54340505e-03,  -2.90148668e-02,  -7.42428675e-02,  -1.13260984e-01,  -1.64844431e-02,  -2.04595015e-03,   6.62073493e-02,   7.16443956e-02,   2.79340912e-02,   4.10271846e-02,   5.95174730e-02,  -6.00566249e-03,  -1.54645620e-02,  -7.12683797e-02,   8.79671983e-03,  -4.92434092e-02,   5.10992482e-02,  -8.38651434e-02,  -2.25264933e-02,   8.38656425e-02,  -2.52281893e-02,\n",
       "          6.46832213e-03,   1.11825475e-02,  -2.39320491e-02,   7.66997412e-02,   1.29069388e-02,  -1.43476436e-03,   2.61569712e-02,   3.26782698e-03,  -3.94107215e-02,  -1.24907680e-01,   5.91904707e-02,   6.91498965e-02,   1.18937409e-02,   1.19316159e-02,   6.01529181e-02,   3.86663564e-02,   2.01280415e-02,  -3.87349278e-02,   2.12677326e-02,   3.31250876e-02,  -8.24541450e-02,   4.31419499e-02,   1.03819906e-03,  -6.36705160e-02,  -1.48560992e-02,   4.10148054e-02,   6.90073147e-02,\n",
       "          2.53660697e-02,   8.47756192e-02,   7.70010054e-03,  -5.05247004e-02,   2.85962713e-03,  -8.32581669e-02,   3.10276449e-02,   5.62444469e-03,   8.11097324e-02,  -2.01480910e-02,   6.27387613e-02,   5.00288717e-02,   1.24952737e-02,  -2.05855016e-02,  -3.50596383e-02,   8.10067579e-02,  -2.56754998e-02,   7.49414368e-03,   2.79155257e-03,   6.89842924e-02,   1.21883191e-02,  -4.26649339e-02,  -5.82223246e-03,  -8.12109858e-02,  -7.87937194e-02,  -7.85753783e-03,   3.74135375e-02,\n",
       "          3.87188382e-02,  -1.93089191e-02,   9.00344402e-02,   6.55825436e-02,  -6.73678368e-02,  -5.86562678e-02,   1.01059787e-02,   2.70872433e-02,  -3.36362608e-02,  -7.18869939e-02,   1.08795293e-01,   6.84171692e-02,  -7.90400207e-02,  -1.17585331e-01,  -3.10860667e-02,  -7.10218325e-02,  -4.34657373e-02,   2.89183240e-02,   3.17467600e-02,  -1.93064436e-02,  -2.04525720e-02,  -2.86420658e-02,   1.12951798e-02,  -5.58459014e-02,  -2.20875982e-02,  -1.11204885e-01,  -9.24418047e-02,\n",
       "          5.77324331e-02,  -6.46126717e-02,  -1.97574683e-02,  -8.93286895e-03,  -5.25218844e-02,   5.37350923e-02,  -3.30357216e-02,  -3.09553612e-02,  -1.04407325e-01,  -3.30570107e-03,   9.76040866e-03,   9.30777416e-02,  -3.46880779e-02,  -1.08151929e-03,  -7.30180228e-03,   2.58148685e-02,  -9.95547324e-03,  -2.92116646e-02,  -1.66936181e-02,  -6.15198575e-02,  -8.08517933e-02,  -5.31352963e-03,  -6.18857257e-02,   2.81046499e-02,   6.78349435e-02,  -2.01005652e-03,  -6.31830990e-02,\n",
       "         -3.36429477e-02,  -7.13874549e-02,   5.65271415e-02,   1.77377574e-02,  -3.51972766e-02,   4.55696099e-02,  -1.05938390e-01,   9.64745358e-02,   7.92387989e-04,   4.33592908e-02,   3.62223573e-02,   3.79113480e-02,  -1.13085724e-01,  -1.53469788e-02,   3.92332301e-03,   3.16160582e-02,  -4.19057161e-02,  -3.61864604e-02,   4.07662690e-02,   7.43802562e-02,   2.83712521e-02,  -1.48801114e-02,  -6.30056188e-02,   4.11989763e-02,   1.44818127e-02,   1.18733689e-01,   1.39826402e-01,\n",
       "          3.60715985e-02,  -4.57904227e-02,  -2.80789044e-02,   1.54581256e-02,   2.01876983e-02,  -3.06659844e-02,  -6.22761026e-02,  -2.80157793e-02,  -1.69243291e-02,   3.10266577e-02,  -1.86284203e-02,  -3.57032544e-03,   2.48682592e-02,   3.41068432e-02,   8.31136033e-02,   2.71649715e-02,   4.66345474e-02,  -1.31323516e-01,  -1.14170462e-01,   5.52042685e-02,   5.04714772e-02,   1.89563915e-01,  -5.44878729e-02,   1.55999688e-02,   2.89259981e-02,  -7.97834015e-04,   1.71892010e-02,\n",
       "          6.65670307e-03,   5.66751743e-03,   2.78370529e-02,   4.58384454e-02,  -1.49605628e-02,  -2.54596416e-02,   4.12356108e-02,   1.63230449e-02,  -2.53262166e-02,   3.39258909e-02,   1.34218298e-03,   1.83610748e-02,   1.72384605e-02,  -6.62486851e-02,  -2.89779846e-02,   1.68255586e-02,   2.92567182e-02,   3.56453322e-02,   7.80122131e-02,  -1.88026913e-02,   2.95720883e-02,  -1.01680629e-01,   3.72890234e-02,   1.34220775e-02,  -1.02103196e-01,   5.93412248e-03,   2.93750428e-02,\n",
       "         -2.07887366e-02,   4.28832658e-02,  -7.51763582e-02,  -2.53168084e-02,  -7.23399967e-02,   8.58987197e-02,   8.83125216e-02,   3.63641971e-04,   6.38242438e-03,  -9.83335972e-02,   2.99354829e-02,  -1.98604956e-01,  -7.06767514e-02,  -7.88459480e-02,  -2.47373097e-02,   7.99598992e-02,  -1.28024751e-02,  -6.31246790e-02,   9.94005129e-02,  -3.63963773e-03,   5.74923158e-02,  -4.86606918e-02,   7.70396218e-02,   5.65585792e-02,   9.07882079e-02,   2.15078499e-02,  -2.63817422e-02,\n",
       "         -1.20197661e-01,   6.73839217e-03,  -1.23010002e-01], dtype=float32))"
      ]
     },
     "execution_count": 6,
     "metadata": {},
     "output_type": "execute_result"
    }
   ],
   "source": [
    "w0 = m.vocab.keys()[0]\n",
    "w0, model_1950_10y[w0]"
   ]
  },
  {
   "cell_type": "code",
   "execution_count": 7,
   "metadata": {
    "collapsed": true
   },
   "outputs": [],
   "source": [
    "m0 = m.vocab[w0]"
   ]
  },
  {
   "cell_type": "code",
   "execution_count": 8,
   "metadata": {
    "collapsed": false
   },
   "outputs": [
    {
     "data": {
      "text/plain": [
       "684281"
      ]
     },
     "execution_count": 8,
     "metadata": {},
     "output_type": "execute_result"
    }
   ],
   "source": [
    "m0.count"
   ]
  },
  {
   "cell_type": "code",
   "execution_count": 9,
   "metadata": {
    "collapsed": false
   },
   "outputs": [
    {
     "data": {
      "text/plain": [
       "<gensim.models.word2vec.Vocab at 0x7f0d982dd5d0>"
      ]
     },
     "execution_count": 9,
     "metadata": {},
     "output_type": "execute_result"
    }
   ],
   "source": [
    "m.vocab[u'frederikspl']"
   ]
  },
  {
   "cell_type": "code",
   "execution_count": 12,
   "metadata": {
    "collapsed": false
   },
   "outputs": [
    {
     "data": {
      "text/plain": [
       "84182"
      ]
     },
     "execution_count": 12,
     "metadata": {},
     "output_type": "execute_result"
    }
   ],
   "source": [
    "m.vocab['unterm'].count"
   ]
  },
  {
   "cell_type": "code",
   "execution_count": 14,
   "metadata": {
    "collapsed": true
   },
   "outputs": [],
   "source": [
    "count = {key: val.count for key, val in m.vocab.iteritems()}"
   ]
  },
  {
   "cell_type": "code",
   "execution_count": 20,
   "metadata": {
    "collapsed": false,
    "scrolled": false
   },
   "outputs": [],
   "source": [
    "vocab_count_sorted = sorted(count, key=count.get, reverse=True)"
   ]
  },
  {
   "cell_type": "code",
   "execution_count": 25,
   "metadata": {
    "collapsed": true
   },
   "outputs": [],
   "source": [
    "count_list = [count for word, count in count.iteritems()]"
   ]
  },
  {
   "cell_type": "code",
   "execution_count": 26,
   "metadata": {
    "collapsed": false
   },
   "outputs": [
    {
     "data": {
      "text/plain": [
       "239803401916"
      ]
     },
     "execution_count": 26,
     "metadata": {},
     "output_type": "execute_result"
    }
   ],
   "source": [
    "np.sum(count_list)"
   ]
  },
  {
   "cell_type": "code",
   "execution_count": 33,
   "metadata": {
    "collapsed": false,
    "scrolled": true
   },
   "outputs": [
    {
     "data": {
      "text/plain": [
       "[<matplotlib.lines.Line2D at 0x7f0d8de62ed0>]"
      ]
     },
     "execution_count": 33,
     "metadata": {},
     "output_type": "execute_result"
    },
    {
     "data": {
      "image/png": "[encoded data removed]",
      "text/plain": [
       "<matplotlib.figure.Figure at 0x7f0d8deed410>"
      ]
     },
     "metadata": {},
     "output_type": "display_data"
    }
   ],
   "source": [
    "plt.semilogy(sorted(count_list, reverse=True))"
   ]
  },
  {
   "cell_type": "code",
   "execution_count": null,
   "metadata": {
    "collapsed": true
   },
   "outputs": [],
   "source": []
  }
 ],
 "metadata": {
  "kernelspec": {
   "display_name": "Python 2",
   "language": "python",
   "name": "python2"
  },
  "language_info": {
   "codemirror_mode": {
    "name": "ipython",
    "version": 2
   },
   "file_extension": ".py",
   "mimetype": "text/x-python",
   "name": "python",
   "nbconvert_exporter": "python",
   "pygments_lexer": "ipython2",
   "version": "2.7.11"
  }
 },
 "nbformat": 4,
 "nbformat_minor": 0
}
