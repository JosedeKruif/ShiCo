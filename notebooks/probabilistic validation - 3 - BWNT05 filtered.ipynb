{
 "cells": [
  {
   "cell_type": "markdown",
   "metadata": {},
   "source": [
    "N.B.: BWNT is not freely distributable, so not included in this repo."
   ]
  },
  {
   "cell_type": "code",
   "execution_count": 1,
   "metadata": {
    "collapsed": false
   },
   "outputs": [],
   "source": [
    "%matplotlib inline"
   ]
  },
  {
   "cell_type": "code",
   "execution_count": 2,
   "metadata": {
    "collapsed": true
   },
   "outputs": [],
   "source": [
    "import matplotlib.pyplot as plt"
   ]
  },
  {
   "cell_type": "code",
   "execution_count": 3,
   "metadata": {
    "collapsed": false
   },
   "outputs": [],
   "source": [
    "import gensim\n",
    "import cPickle as pickle\n",
    "import editdistance\n",
    "import csv"
   ]
  },
  {
   "cell_type": "code",
   "execution_count": 4,
   "metadata": {
    "collapsed": false
   },
   "outputs": [],
   "source": [
    "import plotly.plotly as ply\n",
    "import plotly.graph_objs as plgo"
   ]
  },
  {
   "cell_type": "code",
   "execution_count": 5,
   "metadata": {
    "collapsed": true
   },
   "outputs": [],
   "source": [
    "shico_dn = '/home/patrick/projects/ShiCo Sprint/'"
   ]
  },
  {
   "cell_type": "code",
   "execution_count": 6,
   "metadata": {
    "collapsed": false
   },
   "outputs": [],
   "source": [
    "m1 = model_1950_10y = gensim.models.Word2Vec.load_word2vec_format(shico_dn + '1950_1959.w2v',\n",
    "                                                                  fvocab=shico_dn + '1950_1959.vocab.w2v',\n",
    "                                                                  binary=True)\n",
    "m2 = model_1951_10y = gensim.models.Word2Vec.load_word2vec_format(shico_dn + '1951_1960.w2v',\n",
    "                                                                  fvocab=shico_dn + '1951_1960.vocab.w2v',\n",
    "                                                                  binary=True)"
   ]
  },
  {
   "cell_type": "code",
   "execution_count": 7,
   "metadata": {
    "collapsed": false,
    "scrolled": true
   },
   "outputs": [
    {
     "data": {
      "text/plain": [
       "(692536, 749216)"
      ]
     },
     "execution_count": 7,
     "metadata": {},
     "output_type": "execute_result"
    }
   ],
   "source": [
    "len(model_1950_10y.vocab), len(model_1951_10y.vocab)"
   ]
  },
  {
   "cell_type": "code",
   "execution_count": 8,
   "metadata": {
    "collapsed": true
   },
   "outputs": [],
   "source": [
    "count1 = {key: val.count for key, val in m1.vocab.iteritems()}\n",
    "count2 = {key: val.count for key, val in m2.vocab.iteritems()}"
   ]
  },
  {
   "cell_type": "code",
   "execution_count": 9,
   "metadata": {
    "collapsed": false,
    "scrolled": false
   },
   "outputs": [],
   "source": [
    "vocab_count_sorted1 = sorted(count1, key=count1.get, reverse=True)\n",
    "vocab_count_sorted2 = sorted(count2, key=count2.get, reverse=True)"
   ]
  },
  {
   "cell_type": "code",
   "execution_count": 10,
   "metadata": {
    "collapsed": true
   },
   "outputs": [],
   "source": [
    "count_list1 = [count for word, count in count1.iteritems()]\n",
    "count_list2 = [count for word, count in count2.iteritems()]"
   ]
  },
  {
   "cell_type": "code",
   "execution_count": 11,
   "metadata": {
    "collapsed": false
   },
   "outputs": [
    {
     "data": {
      "text/plain": [
       "(355987241, 390568219)"
      ]
     },
     "execution_count": 11,
     "metadata": {},
     "output_type": "execute_result"
    }
   ],
   "source": [
    "np.sum(count_list1), np.sum(count_list2)"
   ]
  },
  {
   "cell_type": "code",
   "execution_count": 12,
   "metadata": {
    "collapsed": false,
    "scrolled": false
   },
   "outputs": [
    {
     "data": {
      "text/plain": [
       "[<matplotlib.lines.Line2D at 0x7fbde46177d0>]"
      ]
     },
     "execution_count": 12,
     "metadata": {},
     "output_type": "execute_result"
    },
    {
     "data": {
      "image/png": "[encoded data removed]",
      "text/plain": [
       "<matplotlib.figure.Figure at 0x7fbde4617650>"
      ]
     },
     "metadata": {},
     "output_type": "display_data"
    }
   ],
   "source": [
    "plt.loglog(sorted(count_list1, reverse=True))\n",
    "plt.loglog(sorted(count_list2, reverse=True))"
   ]
  },
  {
   "cell_type": "code",
   "execution_count": 13,
   "metadata": {
    "collapsed": false
   },
   "outputs": [],
   "source": [
    "vocab_combined = list(set(model_1950_10y.vocab.keys()).union(set(model_1951_10y.vocab.keys())))"
   ]
  },
  {
   "cell_type": "code",
   "execution_count": 14,
   "metadata": {
    "collapsed": false
   },
   "outputs": [],
   "source": [
    "count_combined = []\n",
    "for w in vocab_combined:\n",
    "    try:\n",
    "        c1 = m1.vocab[w].count\n",
    "    except KeyError:\n",
    "        c1 = 0\n",
    "    try:\n",
    "        c2 = m2.vocab[w].count\n",
    "    except KeyError:\n",
    "        c2 = 0\n",
    "    count_combined.append(c1 + c2)"
   ]
  },
  {
   "cell_type": "code",
   "execution_count": 15,
   "metadata": {
    "collapsed": false
   },
   "outputs": [],
   "source": [
    "vocab_comb_sort = [x for y, x in sorted(zip(count_combined, vocab_combined), reverse=True)]\n",
    "count_comb_sort = sorted(count_combined, reverse=True)"
   ]
  },
  {
   "cell_type": "code",
   "execution_count": 16,
   "metadata": {
    "collapsed": false
   },
   "outputs": [],
   "source": [
    "p_word_comb_sort = np.array(count_comb_sort) / float(np.sum(count_comb_sort))"
   ]
  },
  {
   "cell_type": "code",
   "execution_count": 190,
   "metadata": {
    "collapsed": false
   },
   "outputs": [
    {
     "data": {
      "image/png": "[encoded data removed]",
      "text/plain": [
       "<matplotlib.figure.Figure at 0x7fbd4c34aed0>"
      ]
     },
     "metadata": {},
     "output_type": "display_data"
    }
   ],
   "source": [
    "x_bins = np.logspace(np.floor(np.log10(p_word_comb_sort.min())),\n",
    "                     np.ceil(np.log10(p_word_comb_sort.max())),\n",
    "                     100)\n",
    "_ = plt.hist(p_word_comb_sort, bins=x_bins, log=True)\n",
    "plt.xscale('log')"
   ]
  },
  {
   "cell_type": "code",
   "execution_count": 193,
   "metadata": {
    "collapsed": false
   },
   "outputs": [
    {
     "data": {
      "text/plain": [
       "[<matplotlib.lines.Line2D at 0x7fbd4c3bc510>]"
      ]
     },
     "execution_count": 193,
     "metadata": {},
     "output_type": "execute_result"
    },
    {
     "data": {
      "image/png": "[encoded data removed]",
      "text/plain": [
       "<matplotlib.figure.Figure at 0x7fbd4c3b0e50>"
      ]
     },
     "metadata": {},
     "output_type": "display_data"
    }
   ],
   "source": [
    "plt.semilogy(p_word_comb_sort)"
   ]
  },
  {
   "cell_type": "code",
   "execution_count": 17,
   "metadata": {
    "collapsed": true
   },
   "outputs": [],
   "source": [
    "N_val_words = 1000"
   ]
  },
  {
   "cell_type": "code",
   "execution_count": 18,
   "metadata": {
    "collapsed": false
   },
   "outputs": [],
   "source": [
    "val_words = list(np.random.choice(vocab_comb_sort, size=N_val_words, replace=False, p=p_word_comb_sort))"
   ]
  },
  {
   "cell_type": "code",
   "execution_count": 19,
   "metadata": {
    "collapsed": true
   },
   "outputs": [],
   "source": [
    "topN_sim = 50"
   ]
  },
  {
   "cell_type": "code",
   "execution_count": 20,
   "metadata": {
    "collapsed": false
   },
   "outputs": [],
   "source": [
    "def jaccard_similarity(set1, set2):\n",
    "    return len(set1.intersection(set2)) / float(len(set1.union(set2)))"
   ]
  },
  {
   "cell_type": "code",
   "execution_count": 21,
   "metadata": {
    "collapsed": true
   },
   "outputs": [],
   "source": [
    "p_word_comb_sort_dict = dict(zip(vocab_comb_sort, p_word_comb_sort))"
   ]
  },
  {
   "cell_type": "code",
   "execution_count": 22,
   "metadata": {
    "collapsed": false
   },
   "outputs": [],
   "source": [
    "# val_p = []\n",
    "# val_jaccard = []\n",
    "# for val_word in val_words:\n",
    "#     val_p.append(p_word_comb_sort_dict[val_word])\n",
    "\n",
    "#     try:\n",
    "#         sim_words1 = [word for word, _ in m1.most_similar(val_word, topn=topN_sim)]\n",
    "#         sim_words2 = [word for word, _ in m2.most_similar(val_word, topn=topN_sim)]\n",
    "#         val_jaccard.append(jaccard_similarity(set(sim_words1), set(sim_words2)))\n",
    "#     except KeyError:\n",
    "#         val_jaccard.append(0.)\n",
    "\n",
    "val_p = pickle.load(open('probval2_data/val_p_top50_1000words.pickle', 'r'))\n",
    "val_words = pickle.load(open('probval2_data/val_words_top50_1000words.pickle', 'r'))\n",
    "val_jaccard = pickle.load(open('probval2_data/val_jaccard_top50_1000words.pickle', 'r'))"
   ]
  },
  {
   "cell_type": "code",
   "execution_count": 26,
   "metadata": {
    "collapsed": true
   },
   "outputs": [],
   "source": [
    "# pickle.dump(val_p, open('probval2_data/val_p_top50_1000words.pickle', 'w'), protocol=2)\n",
    "# pickle.dump(val_words, open('probval2_data/val_words_top50_1000words.pickle', 'w'), protocol=2)\n",
    "# pickle.dump(val_jaccard, open('probval2_data/val_jaccard_top50_1000words.pickle', 'w'), protocol=2)"
   ]
  },
  {
   "cell_type": "code",
   "execution_count": 23,
   "metadata": {
    "collapsed": false,
    "scrolled": true
   },
   "outputs": [
    {
     "data": {
      "text/plain": [
       "<matplotlib.text.Text at 0x7fbde84d2a90>"
      ]
     },
     "execution_count": 23,
     "metadata": {},
     "output_type": "execute_result"
    },
    {
     "data": {
      "image/png": "[encoded data removed]",
      "text/plain": [
       "<matplotlib.figure.Figure at 0x7fbde8ddbb10>"
      ]
     },
     "metadata": {},
     "output_type": "display_data"
    }
   ],
   "source": [
    "plt.semilogx(val_p, val_jaccard, '.')\n",
    "plt.xlabel('p(word)')\n",
    "plt.ylabel('jaccard similarity (top 50)')"
   ]
  },
  {
   "cell_type": "code",
   "execution_count": 24,
   "metadata": {
    "collapsed": false
   },
   "outputs": [
    {
     "data": {
      "text/html": [
       "<iframe id=\"igraph\" scrolling=\"no\" style=\"border:none;\" seamless=\"seamless\" src=\"https://plot.ly/~egpbos/29.embed\" height=\"700px\" width=\"100%\"></iframe>"
      ],
      "text/plain": [
       "<plotly.tools.PlotlyDisplay object>"
      ]
     },
     "execution_count": 24,
     "metadata": {},
     "output_type": "execute_result"
    }
   ],
   "source": [
    "trace0 = plgo.Scatter(\n",
    "  x=val_p,\n",
    "  y=val_jaccard,\n",
    "  text=val_words,\n",
    "  mode=\"markers\"\n",
    ")\n",
    "# trace1 = plgo.Scatter(\n",
    "#   x=[1, 2, 3, 4],\n",
    "#   y=[16, 5, 11, 9]\n",
    "# )\n",
    "data = plgo.Data([trace0,])#, trace1])\n",
    "layout = plgo.Layout(\n",
    "    xaxis=dict(\n",
    "        type='log',\n",
    "        autorange=True\n",
    "    ),\n",
    "    yaxis=dict(\n",
    "        type='lin',\n",
    "        autorange=True\n",
    "    ),\n",
    "    hovermode = 'closest',\n",
    "#     width=500,\n",
    "    height=700,\n",
    ")\n",
    "fig = plgo.Figure(data=data, layout=layout)\n",
    "ply.iplot(fig)\n",
    "\n",
    "# ply.iplot(data, filename = 'basic-line')"
   ]
  },
  {
   "cell_type": "code",
   "execution_count": 25,
   "metadata": {
    "collapsed": false,
    "scrolled": true
   },
   "outputs": [
    {
     "data": {
      "text/plain": [
       "[(u'z\\xfcn', 0.8560155034065247),\n",
       " (u'zrjn', 0.8366921544075012),\n",
       " (u'zyn', 0.8275719881057739),\n",
       " (u'zjjn', 0.7892638444900513),\n",
       " (u'ziin', 0.7694714665412903),\n",
       " (u'ztjn', 0.7418159246444702),\n",
       " (u'zun', 0.7395227551460266),\n",
       " (u'zfln', 0.7272780537605286),\n",
       " (u'znn', 0.7247384190559387),\n",
       " (u'zqn', 0.6712801456451416)]"
      ]
     },
     "execution_count": 25,
     "metadata": {},
     "output_type": "execute_result"
    }
   ],
   "source": [
    "m1.most_similar('zijn')"
   ]
  },
  {
   "cell_type": "code",
   "execution_count": 26,
   "metadata": {
    "collapsed": false
   },
   "outputs": [
    {
     "data": {
      "text/plain": [
       "330.3362508164598"
      ]
     },
     "execution_count": 26,
     "metadata": {},
     "output_type": "execute_result"
    }
   ],
   "source": [
    "m1.vocab['zijn'].count / float(np.sum(count_list1)) / (m1.vocab['zrjn'].count / float(np.sum(count_list1)))"
   ]
  },
  {
   "cell_type": "code",
   "execution_count": 27,
   "metadata": {
    "collapsed": false
   },
   "outputs": [
    {
     "data": {
      "text/plain": [
       "[(u'soestd\\xfck', 0.5641106963157654),\n",
       " (u'socstdijk', 0.5477716326713562),\n",
       " (u'soestdiik', 0.5407779216766357),\n",
       " (u'soestdjjk', 0.5311074256896973),\n",
       " (u'sommelsdijk', 0.5250560641288757),\n",
       " (u'soestdrjk', 0.5139874815940857),\n",
       " (u'sloterdijk', 0.512660801410675),\n",
       " (u'laeken', 0.5081022381782532),\n",
       " (u'soestdyk', 0.4955380856990814),\n",
       " (u'malacanan', 0.49514538049697876)]"
      ]
     },
     "execution_count": 27,
     "metadata": {},
     "output_type": "execute_result"
    }
   ],
   "source": [
    "m1.most_similar('soestdijk')"
   ]
  },
  {
   "cell_type": "code",
   "execution_count": 28,
   "metadata": {
    "collapsed": false,
    "scrolled": true
   },
   "outputs": [
    {
     "data": {
      "text/plain": [
       "779"
      ]
     },
     "execution_count": 28,
     "metadata": {},
     "output_type": "execute_result"
    }
   ],
   "source": [
    "m1.vocab['zijn'].count / m1.vocab['soestdijk'].count"
   ]
  },
  {
   "cell_type": "markdown",
   "metadata": {},
   "source": [
    "# Dictionary filter\n",
    "Filter out everything that is not in the (BWNT05) dictionary."
   ]
  },
  {
   "cell_type": "code",
   "execution_count": 29,
   "metadata": {
    "collapsed": false
   },
   "outputs": [],
   "source": [
    "dictionary_words = []\n",
    "with open(shico_dn + 'BWNT05_3.0.1/BWNT05_v003.txt', 'rb') as csvfile:\n",
    "    dictreader = csv.reader(csvfile, delimiter=';')\n",
    "    for row in dictreader:\n",
    "        dictionary_words.append(row[3])"
   ]
  },
  {
   "cell_type": "code",
   "execution_count": 30,
   "metadata": {
    "collapsed": false
   },
   "outputs": [
    {
     "name": "stderr",
     "output_type": "stream",
     "text": [
      "/home/patrick/miniconda2/envs/shico/lib/python2.7/site-packages/ipykernel/__main__.py:1: UnicodeWarning:\n",
      "\n",
      "Unicode equal comparison failed to convert both arguments to Unicode - interpreting them as being unequal\n",
      "\n"
     ]
    }
   ],
   "source": [
    "word_comb_dictfilt = list(set(vocab_comb_sort).intersection(dictionary_words))"
   ]
  },
  {
   "cell_type": "code",
   "execution_count": 31,
   "metadata": {
    "collapsed": false,
    "scrolled": true
   },
   "outputs": [
    {
     "data": {
      "text/plain": [
       "68056"
      ]
     },
     "execution_count": 31,
     "metadata": {},
     "output_type": "execute_result"
    }
   ],
   "source": [
    "len(word_comb_dictfilt)"
   ]
  },
  {
   "cell_type": "code",
   "execution_count": 32,
   "metadata": {
    "collapsed": false
   },
   "outputs": [],
   "source": [
    "p_word_comb_dictfilt_dict = {word: p_word_comb_sort_dict[word] for word in word_comb_dictfilt}"
   ]
  },
  {
   "cell_type": "code",
   "execution_count": 33,
   "metadata": {
    "collapsed": false
   },
   "outputs": [],
   "source": [
    "norm = sum(p for p in p_word_comb_dictfilt_dict.values())\n",
    "p_word_comb_dictfilt_dict = {word: p/norm for word, p in p_word_comb_dictfilt_dict.iteritems()}"
   ]
  },
  {
   "cell_type": "code",
   "execution_count": 34,
   "metadata": {
    "collapsed": true
   },
   "outputs": [],
   "source": [
    "p_word_comb_dictfilt = [p_word_comb_dictfilt_dict[w] for w in word_comb_dictfilt]"
   ]
  },
  {
   "cell_type": "code",
   "execution_count": 35,
   "metadata": {
    "collapsed": false,
    "scrolled": false
   },
   "outputs": [
    {
     "data": {
      "text/plain": [
       "1.0000000000000113"
      ]
     },
     "execution_count": 35,
     "metadata": {},
     "output_type": "execute_result"
    }
   ],
   "source": [
    "sum(p for p in p_word_comb_dictfilt)"
   ]
  },
  {
   "cell_type": "code",
   "execution_count": 36,
   "metadata": {
    "collapsed": false
   },
   "outputs": [],
   "source": [
    "val_words_dictfilt = list(np.random.choice(word_comb_dictfilt, size=N_val_words, replace=False, p=p_word_comb_dictfilt))"
   ]
  },
  {
   "cell_type": "code",
   "execution_count": 37,
   "metadata": {
    "collapsed": true
   },
   "outputs": [],
   "source": [
    "N_max_expected_crap = 50"
   ]
  },
  {
   "cell_type": "code",
   "execution_count": 39,
   "metadata": {
    "collapsed": false,
    "scrolled": false
   },
   "outputs": [],
   "source": [
    "# val_p_dictfilt = []\n",
    "# val_jaccard_dictfilt = []\n",
    "# for val_word in val_words_dictfilt:\n",
    "#     val_p_dictfilt.append(p_word_comb_dictfilt_dict[val_word])\n",
    "\n",
    "#     try:\n",
    "#         sim1 = {w: s for w, s in m1.most_similar(val_word, topn=topN_sim + N_max_expected_crap)}\n",
    "#         sim2 = {w: s for w, s in m2.most_similar(val_word, topn=topN_sim + N_max_expected_crap)}\n",
    "#         sim_words1 = set(sim1.keys()).intersection(dictionary_words)\n",
    "#         sim_words1_dictfilt_dict = {w: sim1[w] for w in sim_words1}\n",
    "#         sim_words1_dictfilt = sorted(sim_words1_dictfilt_dict.keys(), key=sim_words1_dictfilt_dict.get)[:topN_sim]\n",
    "#         sim_words2 = set(sim2.keys()).intersection(dictionary_words)\n",
    "#         sim_words2_dictfilt_dict = {w: sim2[w] for w in sim_words2}\n",
    "#         sim_words2_dictfilt = sorted(sim_words2_dictfilt_dict.keys(), key=sim_words2_dictfilt_dict.get)[:topN_sim]\n",
    "#         val_jaccard_dictfilt.append(jaccard_similarity(set(sim_words1_dictfilt), set(sim_words2_dictfilt)))\n",
    "#     except KeyError:\n",
    "#         val_jaccard_dictfilt.append(0.)\n",
    "#     except ZeroDivisionError:\n",
    "#         val_jaccard_dictfilt.append(0.)"
   ]
  },
  {
   "cell_type": "code",
   "execution_count": 40,
   "metadata": {
    "collapsed": true
   },
   "outputs": [],
   "source": [
    "val_p_dictfilt = pickle.load(open('probval2_data/val_p_dictfilt_top50_1000words.pickle', 'r'))\n",
    "val_words_dictfilt = pickle.load(open('probval2_data/val_words_dictfilt_top50_1000words.pickle', 'r'))\n",
    "val_jaccard_dictfilt = pickle.load(open('probval2_data/val_jaccard_dictfilt_top50_1000words.pickle', 'r'))"
   ]
  },
  {
   "cell_type": "code",
   "execution_count": 88,
   "metadata": {
    "collapsed": true
   },
   "outputs": [],
   "source": [
    "# pickle.dump(val_p_dictfilt, open('probval2_data/val_p_dictfilt_top50_1000words.pickle', 'w'), protocol=2)\n",
    "# pickle.dump(val_words_dictfilt, open('probval2_data/val_words_dictfilt_top50_1000words.pickle', 'w'), protocol=2)\n",
    "# pickle.dump(val_jaccard_dictfilt, open('probval2_data/val_jaccard_dictfilt_top50_1000words.pickle', 'w'), protocol=2)"
   ]
  },
  {
   "cell_type": "code",
   "execution_count": 41,
   "metadata": {
    "collapsed": false,
    "scrolled": false
   },
   "outputs": [
    {
     "data": {
      "text/plain": [
       "<matplotlib.text.Text at 0x7fbde4a78090>"
      ]
     },
     "execution_count": 41,
     "metadata": {},
     "output_type": "execute_result"
    },
    {
     "data": {
      "image/png": "[encoded data removed]",
      "text/plain": [
       "<matplotlib.figure.Figure at 0x7fbde74fcc10>"
      ]
     },
     "metadata": {},
     "output_type": "display_data"
    }
   ],
   "source": [
    "plt.semilogx(val_p, val_jaccard, '.b')\n",
    "plt.semilogx(val_p_dictfilt, val_jaccard_dictfilt, '.g')\n",
    "plt.xlabel('p(word)')\n",
    "plt.ylabel('jaccard similarity (top 50)')"
   ]
  },
  {
   "cell_type": "code",
   "execution_count": 42,
   "metadata": {
    "collapsed": false
   },
   "outputs": [],
   "source": [
    "def plot_hist2d(x, y, bins, ax=None, xmin=None, xmax=None):\n",
    "    if xmin is None:\n",
    "        xmin = min(x)\n",
    "    if xmax is None:\n",
    "        xmax = max(x)\n",
    "    xbins = 10**np.linspace(np.floor(np.log10(xmin)), np.ceil(np.log10(xmax)), bins)\n",
    "    ybins = np.linspace(0, 1, bins)\n",
    "\n",
    "    counts, _, _ = np.histogram2d(y, x, bins=(ybins, xbins))\n",
    "\n",
    "    if ax is None:\n",
    "        fig, ax = plt.subplots()\n",
    "\n",
    "    ax.pcolormesh(xbins, ybins, counts)\n",
    "    ax.set_xscale('log')\n",
    "    \n",
    "#     y_bin = (ybins[1:] + ybins[:-1]) / 2.\n",
    "#     y_weight = np.nan_to_num(counts / counts.sum(axis=0))\n",
    "#     y_mean = np.sum(y_bin[:,None] * y_weight, axis=0)\n",
    "# #     y_std = counts.std(axis=0)\n",
    "    x_bin = 10**((np.log10(xbins[1:]) + np.log10(xbins[:-1]))/2.)\n",
    "    \n",
    "    xy_binned_by_x = {ix: [] for ix in range(len(xbins)-1)}\n",
    "    for ix in range(len(x)):\n",
    "        xy_binned_by_x[xbins.searchsorted(x[ix])-1].append((x[ix], y[ix]))\n",
    "    xy_binned_by_x = {ix: np.array(ding) for ix, ding in xy_binned_by_x.iteritems()}\n",
    "    \n",
    "    x_plot = []\n",
    "    y_plot = []\n",
    "    yerr_plot = []\n",
    "    for ix in range(len(xbins)-1):\n",
    "        if len(xy_binned_by_x[ix]) > 0:\n",
    "            x_plot.append(x_bin[ix])\n",
    "            y_plot.append(xy_binned_by_x[ix][:,1].mean())\n",
    "            yerr_plot.append(xy_binned_by_x[ix][:,1].std())\n",
    "    \n",
    "    ax.errorbar(x_plot, y_plot, yerr=yerr_plot)\n",
    "    \n",
    "    ax.set_ylim(0, 1)\n",
    "        \n",
    "    return xmin, xmax, counts"
   ]
  },
  {
   "cell_type": "code",
   "execution_count": 43,
   "metadata": {
    "collapsed": false,
    "scrolled": false
   },
   "outputs": [
    {
     "data": {
      "image/png": "[encoded data removed]",
      "text/plain": [
       "<matplotlib.figure.Figure at 0x7fbde74fc650>"
      ]
     },
     "metadata": {},
     "output_type": "display_data"
    }
   ],
   "source": [
    "Nbins = 20\n",
    "with plt.style.context(['seaborn-notebook', 'seaborn-darkgrid', 'seaborn-colorblind']):\n",
    "    fig, ax = plt.subplots(1, 2, figsize=(16,7))\n",
    "    xmin, xmax, c = plot_hist2d(val_p, val_jaccard, Nbins, ax=ax[0])\n",
    "    ax[0].set_xlabel('p(word)')\n",
    "    ax[0].set_ylabel('jaccard similarity (top 50)')\n",
    "    ax[0].set_title('unfiltered')\n",
    "    _, _, _ = plot_hist2d(val_p_dictfilt, val_jaccard_dictfilt, Nbins, ax=ax[1], xmin=xmin, xmax=xmax)\n",
    "    ax[1].set_title('filtered by BWNT05 dictionary')\n",
    "    ax[1].set_xlabel('p(word)')\n",
    "    ax[1].set_ylabel('jaccard similarity (top 50)')"
   ]
  },
  {
   "cell_type": "code",
   "execution_count": 44,
   "metadata": {
    "collapsed": false,
    "scrolled": true
   },
   "outputs": [
    {
     "name": "stdout",
     "output_type": "stream",
     "text": [
      "0.408348327981 0.172392256727\n",
      "0.456827772499 0.211101561948\n"
     ]
    }
   ],
   "source": [
    "print np.mean(val_jaccard), np.std(val_jaccard)\n",
    "print np.mean(val_jaccard_dictfilt), np.std(val_jaccard_dictfilt)"
   ]
  },
  {
   "cell_type": "code",
   "execution_count": 45,
   "metadata": {
    "collapsed": false
   },
   "outputs": [
    {
     "data": {
      "text/html": [
       "<iframe id=\"igraph\" scrolling=\"no\" style=\"border:none;\" seamless=\"seamless\" src=\"https://plot.ly/~egpbos/31.embed\" height=\"700px\" width=\"100%\"></iframe>"
      ],
      "text/plain": [
       "<plotly.tools.PlotlyDisplay object>"
      ]
     },
     "execution_count": 45,
     "metadata": {},
     "output_type": "execute_result"
    }
   ],
   "source": [
    "trace0 = plgo.Scatter(\n",
    "  x=val_p_dictfilt,\n",
    "  y=val_jaccard_dictfilt,\n",
    "  text=val_words_dictfilt,\n",
    "  mode=\"markers\"\n",
    ")\n",
    "trace1 = plgo.Scatter(\n",
    "  x=val_p,\n",
    "  y=val_jaccard,\n",
    "  text=val_words,\n",
    "  mode=\"markers\"\n",
    ")\n",
    "data = plgo.Data([trace0, trace1])\n",
    "layout = plgo.Layout(\n",
    "    xaxis=dict(\n",
    "        type='log',\n",
    "        autorange=True\n",
    "    ),\n",
    "    yaxis=dict(\n",
    "        type='lin',\n",
    "        autorange=True\n",
    "    ),\n",
    "    hovermode = 'closest',\n",
    "#     width=500,\n",
    "    height=700,\n",
    ")\n",
    "fig = plgo.Figure(data=data, layout=layout)\n",
    "ply.iplot(fig)\n",
    "\n",
    "# ply.iplot(data, filename = 'basic-line')"
   ]
  },
  {
   "cell_type": "code",
   "execution_count": 46,
   "metadata": {
    "collapsed": true
   },
   "outputs": [
    {
     "data": {
      "text/plain": [
       "({'bovengenoemd',\n",
       "  'dit',\n",
       "  'een',\n",
       "  'eerstgenoemd',\n",
       "  'hef',\n",
       "  'hei',\n",
       "  'hel',\n",
       "  'hit',\n",
       "  'hot',\n",
       "  'hst',\n",
       "  'iet',\n",
       "  'laatstgenoemd',\n",
       "  'tiet',\n",
       "  'tweehoofdig'},\n",
       " {'bovengenoemd',\n",
       "  'dit',\n",
       "  'ditzelfde',\n",
       "  'een',\n",
       "  'eerstgenoemd',\n",
       "  'hef',\n",
       "  'hei',\n",
       "  'hel',\n",
       "  'hit',\n",
       "  'hot',\n",
       "  'hst',\n",
       "  'iet',\n",
       "  'laatstgenoemd',\n",
       "  'meergenoemd',\n",
       "  'tiet'})"
      ]
     },
     "execution_count": 46,
     "metadata": {},
     "output_type": "execute_result"
    }
   ],
   "source": [
    "(set(dict(m1.most_similar('het', topn=topN_sim+N_max_expected_crap)).keys()).intersection(dictionary_words), \n",
    "set(dict(m2.most_similar('het', topn=topN_sim+N_max_expected_crap)).keys()).intersection(dictionary_words))"
   ]
  },
  {
   "cell_type": "code",
   "execution_count": 47,
   "metadata": {
    "collapsed": true
   },
   "outputs": [
    {
     "name": "stderr",
     "output_type": "stream",
     "text": [
      "/home/patrick/miniconda2/envs/shico/lib/python2.7/site-packages/ipykernel/__main__.py:1: UnicodeWarning:\n",
      "\n",
      "Unicode equal comparison failed to convert both arguments to Unicode - interpreting them as being unequal\n",
      "\n"
     ]
    },
    {
     "data": {
      "text/plain": [
       "{'ambtgenoot',\n",
       " 'bewindsman',\n",
       " 'departement',\n",
       " 'luns',\n",
       " 'ministerie',\n",
       " 'onderminister',\n",
       " 'staatssecretaris',\n",
       " 'viceminister'}"
      ]
     },
     "execution_count": 47,
     "metadata": {},
     "output_type": "execute_result"
    }
   ],
   "source": [
    "set(dict(m1.most_similar('minister', topn=topN_sim+N_max_expected_crap)).keys()).intersection(dictionary_words)"
   ]
  },
  {
   "cell_type": "code",
   "execution_count": 48,
   "metadata": {
    "collapsed": true
   },
   "outputs": [
    {
     "data": {
      "text/plain": [
       "{'april',\n",
       " 'augustus',\n",
       " 'december',\n",
       " 'dinsdag',\n",
       " 'dinsdagavond',\n",
       " 'dinsdagmiddag',\n",
       " 'dinsdagmorgen',\n",
       " 'dinsdagochtend',\n",
       " 'donderdag',\n",
       " 'donderdagavond',\n",
       " 'donderdagmiddag',\n",
       " 'donderdagmorgen',\n",
       " 'donderdagochtend',\n",
       " 'februari',\n",
       " 'gisteren',\n",
       " 'januari',\n",
       " 'jongstleden',\n",
       " 'juli',\n",
       " 'juni',\n",
       " 'maandagavond',\n",
       " 'maandagmiddag',\n",
       " 'maandagmorgen',\n",
       " 'maandagochtend',\n",
       " 'maart',\n",
       " 'mei',\n",
       " 'nieuwjaarsdag',\n",
       " 'november',\n",
       " 'oktober',\n",
       " 'oudejaarsdag',\n",
       " 'september',\n",
       " 'vandaag',\n",
       " 'vrijdag',\n",
       " 'vrijdagavond',\n",
       " 'vrijdagmiddag',\n",
       " 'vrijdagmorgen',\n",
       " 'vrijdagochtend',\n",
       " 'woensdag',\n",
       " 'woensdagavond',\n",
       " 'woensdagmiddag',\n",
       " 'woensdagmorgen',\n",
       " 'woensdagochtend',\n",
       " 'zaterdag',\n",
       " 'zaterdagavond',\n",
       " 'zaterdagmiddag',\n",
       " 'zaterdagmorgen',\n",
       " 'zaterdagochtend',\n",
       " 'zondag',\n",
       " 'zondagavond',\n",
       " 'zondagmiddag',\n",
       " 'zondagmorgen',\n",
       " 'zondagochtend'}"
      ]
     },
     "execution_count": 48,
     "metadata": {},
     "output_type": "execute_result"
    }
   ],
   "source": [
    "set(dict(m1.most_similar('maandag', topn=topN_sim+N_max_expected_crap)).keys()).intersection(dictionary_words)"
   ]
  },
  {
   "cell_type": "code",
   "execution_count": 49,
   "metadata": {
    "collapsed": true
   },
   "outputs": [
    {
     "data": {
      "text/plain": [
       "[(u'minisier', 0.7716935873031616),\n",
       " (u'minist\\xe9r', 0.7338584065437317),\n",
       " (u'staatssecretaris', 0.7304750680923462),\n",
       " (u'ministei', 0.7206040620803833),\n",
       " (u'oudminister', 0.701644778251648),\n",
       " (u'minster', 0.688407301902771),\n",
       " (u'nister', 0.6845920085906982),\n",
       " (u'ministervan', 0.6802278161048889),\n",
       " (u'ministers', 0.6520008444786072),\n",
       " (u'ministor', 0.6430771946907043),\n",
       " (u'ninister', 0.6364973783493042),\n",
       " (u'ministerie', 0.632993757724762),\n",
       " (u'spinoy', 0.6291888356208801),\n",
       " (u'mnister', 0.6266401410102844),\n",
       " (u'ministe', 0.6201404333114624),\n",
       " (u'mlnister', 0.6148898005485535),\n",
       " (u'viceminister', 0.6142911314964294),\n",
       " (u'kvpminister', 0.6137517690658569),\n",
       " (u'ministar', 0.6114950180053711),\n",
       " (u'minis', 0.607969343662262),\n",
       " (u'ministet', 0.6034566760063171),\n",
       " (u'bewindsman', 0.6017476320266724),\n",
       " (u'financi\\xebn', 0.6005555987358093),\n",
       " (u'ministerpresident', 0.5964834094047546),\n",
       " (u'zakenn', 0.596211850643158),\n",
       " (u'mmister', 0.5961301922798157),\n",
       " (u'jinister', 0.5951021313667297),\n",
       " (u'miniser', 0.5948948860168457),\n",
       " (u'zwerew', 0.593014657497406),\n",
       " (u'onderminister', 0.5898551940917969),\n",
       " (u'departement', 0.5894368290901184),\n",
       " (u'tinister', 0.5892971158027649),\n",
       " (u'financien', 0.5881685018539429),\n",
       " (u'basjajan', 0.587892472743988),\n",
       " (u'baquir', 0.5875231027603149),\n",
       " (u'pvdaminister', 0.5858110785484314),\n",
       " (u'tltinister', 0.5846652388572693),\n",
       " (u'iminister', 0.5846408605575562),\n",
       " (u'ambtgenoot', 0.5834847688674927),\n",
       " (u'larock', 0.5833784937858582),\n",
       " (u'popowitsj', 0.5816052556037903),\n",
       " (u'zweref', 0.5809272527694702),\n",
       " (u'maarseveen', 0.5804098844528198),\n",
       " (u'rinister', 0.5785014033317566),\n",
       " (u'britseminister', 0.5761992931365967),\n",
       " (u'zakon', 0.5752843022346497),\n",
       " (u'demissionaire', 0.5751251578330994),\n",
       " (u'torielli', 0.5747148990631104),\n",
       " (u'jninister', 0.5732064843177795),\n",
       " (u'euitenlandse', 0.5731945633888245),\n",
       " (u'inister', 0.5703905820846558),\n",
       " (u'mansholt', 0.5701262950897217),\n",
       " (u'rninister', 0.5697314143180847),\n",
       " (u'borlenghi', 0.5694044828414917),\n",
       " (u'remorino', 0.5684858560562134),\n",
       " (u'bashayan', 0.5682179927825928),\n",
       " (u'joekes', 0.567940354347229),\n",
       " (u'kieft', 0.5675196051597595),\n",
       " (u'dullrs', 0.5670133233070374),\n",
       " (u'n\\xfcnister', 0.5670104622840881),\n",
       " (u'tambroni', 0.5666030645370483),\n",
       " (u'theotokis', 0.5636674761772156),\n",
       " (u'liebaert', 0.563103437423706),\n",
       " (u'suurhoff', 0.5629608035087585),\n",
       " (u'cals', 0.5603598356246948),\n",
       " (u'elizalde', 0.5602279901504517),\n",
       " (u'vitolo', 0.559390664100647),\n",
       " (u'minieter', 0.5581876635551453),\n",
       " (u'onderstaatssecretaris', 0.5580928325653076),\n",
       " (u'zakene', 0.557791531085968),\n",
       " (u'sjigemitsoe', 0.5573288798332214),\n",
       " (u'pous', 0.5566899180412292),\n",
       " (u'sovjetminister', 0.5565285682678223),\n",
       " (u'minisrer', 0.5563609600067139),\n",
       " (u'beel', 0.554804265499115),\n",
       " (u'staatssekretaris', 0.5543174743652344),\n",
       " (u'binnelandse', 0.5535810589790344),\n",
       " (u'stefanopoulos', 0.552968442440033),\n",
       " (u'mimster', 0.5519931316375732),\n",
       " (u'faydi', 0.5518543124198914),\n",
       " (u'miuister', 0.548602283000946),\n",
       " (u'thorneycroft', 0.547435998916626),\n",
       " (u'minjster', 0.5466992855072021),\n",
       " (u'castiella', 0.5459627509117126),\n",
       " (u'westdu\\xeftse', 0.5459476709365845),\n",
       " (u'miniater', 0.5455535650253296),\n",
       " (u'hisato', 0.5444583296775818),\n",
       " (u'minisler', 0.5436782240867615),\n",
       " (u'buitenlanlse', 0.5435475707054138),\n",
       " (u'ruitcnlandse', 0.5432440042495728),\n",
       " (u'buitenlande', 0.5432434678077698),\n",
       " (u'wigny', 0.5426613092422485),\n",
       " (u'fatcmi', 0.542348325252533),\n",
       " (u'jtezegd', 0.542237401008606),\n",
       " (u'jminister', 0.542046070098877),\n",
       " (u'soebandrio', 0.5419946908950806),\n",
       " (u'luns', 0.5415340065956116),\n",
       " (u'pfimlin', 0.5412597060203552),\n",
       " (u'ramadier', 0.540504515171051),\n",
       " (u'eshkol', 0.540361225605011)]"
      ]
     },
     "execution_count": 49,
     "metadata": {},
     "output_type": "execute_result"
    }
   ],
   "source": [
    "m1.most_similar('minister', topn=topN_sim+N_max_expected_crap)"
   ]
  },
  {
   "cell_type": "markdown",
   "metadata": {},
   "source": [
    "# Levenshtein filter\n",
    "We filter by distance 2 or 3; this also takes into account many vervoegingen (e.g. most verbs with 2 and also most singular vs plural with 3)."
   ]
  },
  {
   "cell_type": "code",
   "execution_count": 50,
   "metadata": {
    "collapsed": false,
    "scrolled": true
   },
   "outputs": [
    {
     "data": {
      "text/plain": [
       "1L"
      ]
     },
     "execution_count": 50,
     "metadata": {},
     "output_type": "execute_result"
    }
   ],
   "source": [
    "editdistance.eval('hello', 'hullo')"
   ]
  },
  {
   "cell_type": "code",
   "execution_count": 62,
   "metadata": {
    "collapsed": true
   },
   "outputs": [],
   "source": [
    "lev_gt_2 = lambda w1, w2: editdistance.eval(w1, w2) > 2\n",
    "lev_gt_3 = lambda w1, w2: editdistance.eval(w1, w2) > 3"
   ]
  },
  {
   "cell_type": "code",
   "execution_count": 64,
   "metadata": {
    "collapsed": false
   },
   "outputs": [],
   "source": [
    "# val_p_lev2filt = []\n",
    "# val_jaccard_lev2filt = []\n",
    "# for val_word in val_words:\n",
    "#     val_p_lev2filt.append(p_word_comb_sort_dict[val_word])\n",
    "\n",
    "#     try:\n",
    "#         sim_words1 = [word for word, _ in m1.most_similar(val_word, topn=topN_sim + N_max_expected_crap) if lev_gt_2(val_word, word)]\n",
    "#         sim_words2 = [word for word, _ in m2.most_similar(val_word, topn=topN_sim + N_max_expected_crap) if lev_gt_2(val_word, word)]\n",
    "#         val_jaccard_lev2filt.append(jaccard_similarity(set(sim_words1), set(sim_words2)))\n",
    "#     except KeyError:\n",
    "#         val_jaccard_lev2filt.append(0.)"
   ]
  },
  {
   "cell_type": "code",
   "execution_count": 65,
   "metadata": {
    "collapsed": true
   },
   "outputs": [],
   "source": [
    "# pickle.dump(val_p_lev2filt, open('probval2_data/val_p_lev2filt_top50_1000words.pickle', 'w'), protocol=2)\n",
    "# pickle.dump(val_jaccard_lev2filt, open('probval2_data/val_jaccard_lev2filt_top50_1000words.pickle', 'w'), protocol=2)"
   ]
  },
  {
   "cell_type": "code",
   "execution_count": 55,
   "metadata": {
    "collapsed": true
   },
   "outputs": [],
   "source": [
    "val_p_lev2filt = pickle.load(open('probval2_data/val_p_lev2filt_top50_1000words.pickle', 'r'))\n",
    "val_jaccard_lev2filt = pickle.load(open('probval2_data/val_jaccard_lev2filt_top50_1000words.pickle', 'r'))"
   ]
  },
  {
   "cell_type": "code",
   "execution_count": 67,
   "metadata": {
    "collapsed": false
   },
   "outputs": [],
   "source": [
    "# val_p_lev3filt = []\n",
    "# val_jaccard_lev3filt = []\n",
    "# for val_word in val_words:\n",
    "#     val_p_lev3filt.append(p_word_comb_sort_dict[val_word])\n",
    "\n",
    "#     try:\n",
    "#         sim_words1 = [word for word, _ in m1.most_similar(val_word, topn=topN_sim + N_max_expected_crap) if lev_gt_3(val_word, word)]\n",
    "#         sim_words2 = [word for word, _ in m2.most_similar(val_word, topn=topN_sim + N_max_expected_crap) if lev_gt_3(val_word, word)]\n",
    "#         val_jaccard_lev3filt.append(jaccard_similarity(set(sim_words1), set(sim_words2)))\n",
    "#     except KeyError:\n",
    "#         val_jaccard_lev3filt.append(0.)\n",
    "#     except ZeroDivisionError:\n",
    "#         val_jaccard_lev3filt.append(0.)"
   ]
  },
  {
   "cell_type": "code",
   "execution_count": 68,
   "metadata": {
    "collapsed": true
   },
   "outputs": [],
   "source": [
    "# pickle.dump(val_p_lev3filt, open('probval2_data/val_p_lev3filt_top50_1000words.pickle', 'w'), protocol=2)\n",
    "# pickle.dump(val_jaccard_lev3filt, open('probval2_data/val_jaccard_lev3filt_top50_1000words.pickle', 'w'), protocol=2)"
   ]
  },
  {
   "cell_type": "code",
   "execution_count": 55,
   "metadata": {
    "collapsed": true
   },
   "outputs": [],
   "source": [
    "val_p_lev3filt = pickle.load(open('probval2_data/val_p_lev3filt_top50_1000words.pickle', 'r'))\n",
    "val_jaccard_lev3filt = pickle.load(open('probval2_data/val_jaccard_lev3filt_top50_1000words.pickle', 'r'))"
   ]
  },
  {
   "cell_type": "code",
   "execution_count": 69,
   "metadata": {
    "collapsed": false
   },
   "outputs": [
    {
     "data": {
      "image/png": "[encoded data removed]",
      "text/plain": [
       "<matplotlib.figure.Figure at 0x7fbd4fa0f590>"
      ]
     },
     "metadata": {},
     "output_type": "display_data"
    }
   ],
   "source": [
    "Nbins = 20\n",
    "with plt.style.context(['seaborn-notebook', 'seaborn-darkgrid', 'seaborn-colorblind']):\n",
    "    fig, ax = plt.subplots(2, 2, figsize=(16,16))\n",
    "    xmin, xmax, c = plot_hist2d(val_p, val_jaccard, Nbins, ax=ax[0,0])\n",
    "    ax[0,0].set_xlabel('p(word)')\n",
    "    ax[0,0].set_ylabel('jaccard similarity (top 50)')\n",
    "    ax[0,0].set_title('unfiltered')\n",
    "    _, _, _ = plot_hist2d(val_p_dictfilt, val_jaccard_dictfilt, Nbins, ax=ax[0,1], xmin=xmin, xmax=xmax)\n",
    "    ax[0,1].set_title('filtered by BWNT05 dictionary')\n",
    "    ax[0,1].set_xlabel('p(word)')\n",
    "    ax[0,1].set_ylabel('jaccard similarity (top 50)')\n",
    "    _, _, _ = plot_hist2d(val_p_lev2filt, val_jaccard_lev2filt, Nbins, ax=ax[1,0], xmin=xmin, xmax=xmax)\n",
    "    ax[1,0].set_title('filtered by levenshtein distance > 2')\n",
    "    ax[1,0].set_xlabel('p(word)')\n",
    "    ax[1,0].set_ylabel('jaccard similarity (top 50)')\n",
    "    _, _, _ = plot_hist2d(val_p_lev3filt, val_jaccard_lev3filt, Nbins, ax=ax[1,1], xmin=xmin, xmax=xmax)\n",
    "    ax[1,1].set_title('filtered by levenshtein distance > 3')\n",
    "    ax[1,1].set_xlabel('p(word)')\n",
    "    ax[1,1].set_ylabel('jaccard similarity (top 50)')"
   ]
  },
  {
   "cell_type": "code",
   "execution_count": 70,
   "metadata": {
    "collapsed": false
   },
   "outputs": [
    {
     "data": {
      "text/html": [
       "<iframe id=\"igraph\" scrolling=\"no\" style=\"border:none;\" seamless=\"seamless\" src=\"https://plot.ly/~egpbos/35.embed\" height=\"700px\" width=\"100%\"></iframe>"
      ],
      "text/plain": [
       "<plotly.tools.PlotlyDisplay object>"
      ]
     },
     "execution_count": 70,
     "metadata": {},
     "output_type": "execute_result"
    }
   ],
   "source": [
    "trace0 = plgo.Scatter(\n",
    "  x=val_p_lev2filt,\n",
    "  y=val_jaccard_lev2filt,\n",
    "  text=val_words,\n",
    "  mode=\"markers\"\n",
    ")\n",
    "data = plgo.Data([trace0])\n",
    "layout = plgo.Layout(\n",
    "    xaxis=dict(\n",
    "        type='log',\n",
    "        autorange=True\n",
    "    ),\n",
    "    yaxis=dict(\n",
    "        type='lin',\n",
    "        autorange=True\n",
    "    ),\n",
    "    hovermode = 'closest',\n",
    "#     width=500,\n",
    "    height=700,\n",
    ")\n",
    "fig = plgo.Figure(data=data, layout=layout)\n",
    "ply.iplot(fig)\n",
    "\n",
    "# ply.iplot(data, filename = 'basic-line')"
   ]
  },
  {
   "cell_type": "code",
   "execution_count": 223,
   "metadata": {
    "collapsed": false
   },
   "outputs": [],
   "source": [
    "lev2filt_words_m1 = lambda val_word: [word for word, _ in m1.most_similar(val_word, topn=topN_sim + N_max_expected_crap) if lev_gt_2(val_word, word)]\n",
    "dictfilt_words_m1 = lambda val_word: [word for word, _ in m1.most_similar(val_word, topn=topN_sim + N_max_expected_crap) if word in dictionary_words]\n",
    "lev2anddictfilt_words_m1 = lambda val_word: [word for word, _ in m1.most_similar(val_word, topn=topN_sim + N_max_expected_crap) if word in dictionary_words and lev_gt_2(val_word, word)]\n",
    "lev2_and_dict_and_freq100_filt_words_m1 = lambda val_word: [word for word, _ in m1.most_similar(val_word, topn=topN_sim + N_max_expected_crap) if word in dictionary_words and lev_gt_2(val_word, word) and m1.vocab[word].count > 100]"
   ]
  },
  {
   "cell_type": "code",
   "execution_count": 224,
   "metadata": {
    "collapsed": false,
    "scrolled": true
   },
   "outputs": [
    {
     "name": "stdout",
     "output_type": "stream",
     "text": [
      "[u'vanhet', u'li\\xe9t', u'aanhet', u'bovengenoemd', u'ilct', u'olijks', u'eennieuw', u'eerstgenoemd', u'jict', u'tweehoofdig', u'laatstgenoemd', u'franstalig', u'ieind', u'iict', u'dergehjk', u'blanshards', u'dierenziekten', u'analphabetisch', u'burgemeesterlijk', u'idit', u'dergel\\xfck', u'jlct', u'vierpunten', u'onzelfgenoegzaamheid', u'tegenhet', u'nagoeibs', u'\\xe8lk', u'praehistorisch', u'toezichthebbend']\n",
      "\n",
      "[u'hef', u'hei', u'tiet', u'hel', u'hst', u'hot', u'dit', u'iet', u'bovengenoemd', u'eerstgenoemd', u'tweehoofdig', u'laatstgenoemd', u'hit', u'een']\n",
      "\n"
     ]
    },
    {
     "name": "stderr",
     "output_type": "stream",
     "text": [
      "/home/patrick/miniconda2/envs/shico/lib/python2.7/site-packages/ipykernel/__main__.py:2: UnicodeWarning:\n",
      "\n",
      "Unicode equal comparison failed to convert both arguments to Unicode - interpreting them as being unequal\n",
      "\n",
      "/home/patrick/miniconda2/envs/shico/lib/python2.7/site-packages/ipykernel/__main__.py:3: UnicodeWarning:\n",
      "\n",
      "Unicode equal comparison failed to convert both arguments to Unicode - interpreting them as being unequal\n",
      "\n"
     ]
    },
    {
     "name": "stdout",
     "output_type": "stream",
     "text": [
      "[u'bovengenoemd', u'eerstgenoemd', u'tweehoofdig', u'laatstgenoemd']\n",
      "\n",
      "[u'bovengenoemd', u'eerstgenoemd', u'laatstgenoemd']\n"
     ]
    },
    {
     "name": "stderr",
     "output_type": "stream",
     "text": [
      "/home/patrick/miniconda2/envs/shico/lib/python2.7/site-packages/ipykernel/__main__.py:4: UnicodeWarning:\n",
      "\n",
      "Unicode equal comparison failed to convert both arguments to Unicode - interpreting them as being unequal\n",
      "\n"
     ]
    }
   ],
   "source": [
    "print lev2filt_words_m1('het')\n",
    "print\n",
    "print dictfilt_words_m1('het')\n",
    "print\n",
    "print lev2anddictfilt_words_m1('het')\n",
    "print\n",
    "print lev2_and_dict_and_freq100_filt_words_m1('het')"
   ]
  },
  {
   "cell_type": "code",
   "execution_count": 225,
   "metadata": {
    "collapsed": false,
    "scrolled": true
   },
   "outputs": [
    {
     "name": "stdout",
     "output_type": "stream",
     "text": [
      "[u'tic', u'van', u'eilandbestuur']\n",
      "\n",
      "[u'cic', u'tic', u'clc', u'van', u'eilandbestuur', u'farouks', u'antilliaanse', u'hariono', u'tschumie', u'lacis', u'priemier', u'djojohadiredjo', u'inzon', u'opd\\xeb', u'xedcrlandsc', u'iruanse', u'brazilii\\xeb', u'surowijono', u'landsregelingen', u'landso', u'lacl\\xe9', u'wapenstilstandsovereen', u'yemense', u'dewev', u'cfcn', u'independiente', u'delievende', u'skjoeld', u'indoresische', u'caraibisch\\xeb', u'zaghlul', u'harrinian', u'prostitutieprobleem', u'correia', u'arubaanse', u'uiterlij', u'vande', u'echandi', u'terao', u'struyckens', u'brazilliaanse', u'\\xe8enf', u'dooide', u'gebiuikt', u'seheime', u'goeile', u'hucleman', u'curagaose', u'doorde', u'arevalo', u'shiro', u'overde', u'huvellc', u'commissi\\xe9', u'ploch']\n",
      "\n",
      "[u'tic', u'van']\n"
     ]
    },
    {
     "name": "stderr",
     "output_type": "stream",
     "text": [
      "/home/patrick/miniconda2/envs/shico/lib/python2.7/site-packages/ipykernel/__main__.py:3: UnicodeWarning:\n",
      "\n",
      "Unicode equal comparison failed to convert both arguments to Unicode - interpreting them as being unequal\n",
      "\n",
      "/home/patrick/miniconda2/envs/shico/lib/python2.7/site-packages/ipykernel/__main__.py:4: UnicodeWarning:\n",
      "\n",
      "Unicode equal comparison failed to convert both arguments to Unicode - interpreting them as being unequal\n",
      "\n"
     ]
    }
   ],
   "source": [
    "print lev2anddictfilt_words_m1('de')\n",
    "print\n",
    "print lev2filt_words_m1('de')\n",
    "print\n",
    "print lev2_and_dict_and_freq100_filt_words_m1('de')"
   ]
  },
  {
   "cell_type": "code",
   "execution_count": 227,
   "metadata": {
    "collapsed": false
   },
   "outputs": [
    {
     "data": {
      "text/plain": [
       "6164"
      ]
     },
     "execution_count": 227,
     "metadata": {},
     "output_type": "execute_result"
    }
   ],
   "source": [
    "m1.vocab['tic'].count"
   ]
  },
  {
   "cell_type": "code",
   "execution_count": 214,
   "metadata": {
    "collapsed": false
   },
   "outputs": [
    {
     "data": {
      "text/plain": [
       "(692536, 114109)"
      ]
     },
     "execution_count": 214,
     "metadata": {},
     "output_type": "execute_result"
    }
   ],
   "source": [
    "len([thing for thing in m1.vocab.values() if thing.count > 100]), len(dictionary_words)"
   ]
  },
  {
   "cell_type": "code",
   "execution_count": 222,
   "metadata": {
    "collapsed": false
   },
   "outputs": [
    {
     "data": {
      "text/plain": [
       "<matplotlib.lines.Line2D at 0x7fbd4fb33ed0>"
      ]
     },
     "execution_count": 222,
     "metadata": {},
     "output_type": "execute_result"
    },
    {
     "data": {
      "image/png": "[encoded data removed]",
      "text/plain": [
       "<matplotlib.figure.Figure at 0x7fbde79cf3d0>"
      ]
     },
     "metadata": {},
     "output_type": "display_data"
    }
   ],
   "source": [
    "plt.semilogy(sorted(count_list1, reverse=True))\n",
    "plt.axhline(100)"
   ]
  },
  {
   "cell_type": "code",
   "execution_count": 197,
   "metadata": {
    "collapsed": false
   },
   "outputs": [
    {
     "name": "stdout",
     "output_type": "stream",
     "text": [
      "[u'de', u'volkscommissariaat']\n"
     ]
    },
    {
     "name": "stderr",
     "output_type": "stream",
     "text": [
      "/home/patrick/miniconda2/envs/shico/lib/python2.7/site-packages/ipykernel/__main__.py:3: UnicodeWarning:\n",
      "\n",
      "Unicode equal comparison failed to convert both arguments to Unicode - interpreting them as being unequal\n",
      "\n"
     ]
    }
   ],
   "source": [
    "print lev2anddictfilt_words_m1('van')"
   ]
  },
  {
   "cell_type": "code",
   "execution_count": 80,
   "metadata": {
    "collapsed": true
   },
   "outputs": [
    {
     "data": {
      "text/plain": [
       "[u'bevrijding',\n",
       " u'wereldoorlog',\n",
       " u'oorlogsjaren',\n",
       " u'hongerwinter',\n",
       " u'bevr\\xfcding',\n",
       " u'burgeroorlog',\n",
       " u'bezettingsjaren',\n",
       " u'bezetting',\n",
       " u'capitulatie',\n",
       " u'soevereiniteitsoverdracht',\n",
       " u'bevrijdingsoorlog',\n",
       " u'1945',\n",
       " u'souvereiniteitsoverdracht',\n",
       " u'crisisjaren',\n",
       " u'machtsovername',\n",
       " u'mandaatsperiode',\n",
       " u'boerenoorlog',\n",
       " u'verwoesting',\n",
       " u'suezcrisis',\n",
       " u'meidagen',\n",
       " u'\\xf6orlogse',\n",
       " u'ooriogse',\n",
       " u'revolutiejaren',\n",
       " u'februariramp',\n",
       " u'machtsoverneming',\n",
       " u'wereldbrand',\n",
       " u'bevryding',\n",
       " u'sina\\xefveldtocht',\n",
       " u'verzetsroman',\n",
       " u'vrijheidsoorlog',\n",
       " u'stormramp',\n",
       " u'1940',\n",
       " u'bloedigste',\n",
       " u'hevigste',\n",
       " u'wereldcrisis',\n",
       " u'schietparty',\n",
       " u'bezettingstijd',\n",
       " u'catastrofe',\n",
       " u'souverciniteitsoverdracht',\n",
       " u'veldtocht',\n",
       " u'dingisten',\n",
       " u'anschlusz',\n",
       " u'00r10g',\n",
       " u'wereldooilog',\n",
       " u'pogroms',\n",
       " u'kerkstrijd',\n",
       " u'geldsanering',\n",
       " u'droogteperiode',\n",
       " u'\\xf3orlogse',\n",
       " u'wereldoorlogen',\n",
       " u'revolutie',\n",
       " u'uitmergelende',\n",
       " u'oorlogsdagen',\n",
       " u'hitler',\n",
       " u'catastrophe',\n",
       " u'ineenstorting',\n",
       " u'geboortetop',\n",
       " u'deviezengrens',\n",
       " u'verdrijving',\n",
       " u'bewapeningswedloop',\n",
       " u'interventielegers',\n",
       " u'stormdagen',\n",
       " u'brasillach',\n",
       " u'uitbreken',\n",
       " u'stormperiode',\n",
       " u'onafhankelijkheidsstrijd',\n",
       " u'pauze',\n",
       " u'crisistijd',\n",
       " u'verschrikkingen',\n",
       " u'1918',\n",
       " u'crisisperiode',\n",
       " u'reldoorlog',\n",
       " u'bombardementen',\n",
       " u'mistperiode',\n",
       " u'mensenheugenis',\n",
       " u'anschluss',\n",
       " u'kulturverein',\n",
       " u'demobiliseerde',\n",
       " u'onafhankelijkheidsoorlog',\n",
       " u'koudeperiode',\n",
       " u'woodring',\n",
       " u'ardennenoffensief']"
      ]
     },
     "execution_count": 80,
     "metadata": {},
     "output_type": "execute_result"
    }
   ],
   "source": [
    "lev2filt_words_m1('oorlog')"
   ]
  },
  {
   "cell_type": "markdown",
   "metadata": {},
   "source": [
    "# Prutsing with inverse projection method"
   ]
  },
  {
   "cell_type": "code",
   "execution_count": 84,
   "metadata": {
    "collapsed": true
   },
   "outputs": [],
   "source": [
    "f = np.linalg.pinv(m1.syn0norm)"
   ]
  },
  {
   "cell_type": "code",
   "execution_count": 91,
   "metadata": {
    "collapsed": false
   },
   "outputs": [],
   "source": [
    "proj_inv_oorlog = np.dot(f.T, m1['oorlog'])"
   ]
  },
  {
   "cell_type": "code",
   "execution_count": 93,
   "metadata": {
    "collapsed": false
   },
   "outputs": [
    {
     "data": {
      "text/plain": [
       "(0.00075302616, 0.00075302616)"
      ]
     },
     "execution_count": 93,
     "metadata": {},
     "output_type": "execute_result"
    }
   ],
   "source": [
    "proj_inv_oorlog[m1.vocab['oorlog'].index], proj_inv_oorlog.max()"
   ]
  },
  {
   "cell_type": "code",
   "execution_count": 94,
   "metadata": {
    "collapsed": true
   },
   "outputs": [],
   "source": [
    "ix_sort = np.argsort(proj_inv_oorlog)"
   ]
  },
  {
   "cell_type": "code",
   "execution_count": 97,
   "metadata": {
    "collapsed": false
   },
   "outputs": [
    {
     "name": "stdout",
     "output_type": "stream",
     "text": [
      "[u'paolucci', u'landbouwver', u'xeer', u'sal', u'aanvangen', u'ondervond', u'touwde', u'artde', u'behelst', u'memorerende']\n",
      "\n",
      "[u'bevr\\xfcding', u'oorlogen', u'ooriog', u'bezetting', u'pauze', u'oorlogsjaren', u'oorlogse', u'wereldoorlog', u'bevrijding', u'oorlog']\n"
     ]
    }
   ],
   "source": [
    "print [m1.index2word[ix] for ix in ix_sort[:10]]\n",
    "print\n",
    "print [m1.index2word[ix] for ix in ix_sort[-10:]]"
   ]
  },
  {
   "cell_type": "code",
   "execution_count": 98,
   "metadata": {
    "collapsed": true
   },
   "outputs": [],
   "source": [
    "def words_from_inv_proj(word):\n",
    "    proj_inv_word = np.dot(f.T, m1[word])\n",
    "    ix_sort = np.argsort(proj_inv_word)\n",
    "    print [m1.index2word[ix] for ix in ix_sort[:10]]\n",
    "    print\n",
    "    print [m1.index2word[ix] for ix in ix_sort[-10:]]"
   ]
  },
  {
   "cell_type": "code",
   "execution_count": 101,
   "metadata": {
    "collapsed": false
   },
   "outputs": [
    {
     "name": "stdout",
     "output_type": "stream",
     "text": [
      "[u'legt', u'tellende', u'waarmed', u'yaffa', u'levie', u'critisch', u'hubacher', u'ehaam', u'voornoemden', u'ambtenaarl']\n",
      "\n",
      "[u'welvaart', u'rechtvaardigheid', u'wapenstilstand', u'gelijkheid', u'voorspoed', u'gerechtigheid', u'veiligheid', u'vrijheid', u'wereldvrede', u'vrede']\n"
     ]
    }
   ],
   "source": [
    "words_from_inv_proj('vrede')"
   ]
  },
  {
   "cell_type": "code",
   "execution_count": 102,
   "metadata": {
    "collapsed": false
   },
   "outputs": [
    {
     "name": "stdout",
     "output_type": "stream",
     "text": [
      "[u'tellende', u'djakartase', u'bolivai', u'iading', u'staa', u'opneemt', u'gereserveerde', u'stedelijke', u'onbekendheid', u'raden']\n",
      "\n",
      "[u'bestandsovereenkomst', u'wapenstilstandsonderhandelingen', u'compromis', u'wapenstilstandsovereenkomst', u'vrede', u'korea', u'vijandelijkheden', u'wapenstilstandsbesprekingen', u'bestand', u'wapenstilstand']\n"
     ]
    }
   ],
   "source": [
    "words_from_inv_proj('wapenstilstand')"
   ]
  },
  {
   "cell_type": "code",
   "execution_count": 103,
   "metadata": {
    "collapsed": false
   },
   "outputs": [
    {
     "name": "stdout",
     "output_type": "stream",
     "text": [
      "[u'correspondentie', u'verge', u'kattensingel', u'viscose', u'fabrieks', u'260728', u'luikt', u'afri', u'ijzeren', u'superconnies']\n",
      "\n",
      "[u'jan', u'garthoff', u'henk', u'haanstra', u'oekomen', u'garthof', u'hans', u'wim', u'onnes', u'bert']\n"
     ]
    }
   ],
   "source": [
    "words_from_inv_proj('bert')"
   ]
  },
  {
   "cell_type": "code",
   "execution_count": 105,
   "metadata": {
    "collapsed": false
   },
   "outputs": [
    {
     "name": "stdout",
     "output_type": "stream",
     "text": [
      "[u'gedempte', u'deelnaden', u'huizum', u'verloren1', u'aeren', u'major', u'ingehouden', u'uverige', u'jacob', u'dljzonder']\n",
      "\n",
      "[u'sla', u'wortelen', u'perziken', u'kersen', u'tomaten', u'uien', u'pruimen', u'appelen', u'peren', u'appels']\n"
     ]
    }
   ],
   "source": [
    "words_from_inv_proj('appels')"
   ]
  },
  {
   "cell_type": "code",
   "execution_count": 106,
   "metadata": {
    "collapsed": false,
    "scrolled": true
   },
   "outputs": [
    {
     "name": "stdout",
     "output_type": "stream",
     "text": [
      "[u'ltrok', u'sowjetregime', u'schoonebeekveld', u'krotenkokersbedrijf', u'weerlichtte', u'westerkerkkoor', u'dolore', u'vraagprogramma', u'spanningsverschil', u'lampenisten']\n",
      "\n",
      "[u'bet', u'hst', u'ihet', u'hel', u'tiet', u'h\\xe8t', u'hef', u'hei', u'h\\xe9t', u'het']\n"
     ]
    }
   ],
   "source": [
    "words_from_inv_proj('het')"
   ]
  },
  {
   "cell_type": "code",
   "execution_count": 107,
   "metadata": {
    "collapsed": false
   },
   "outputs": [
    {
     "name": "stdout",
     "output_type": "stream",
     "text": [
      "[u'pelsdier', u'lampenisten', u'bandelaren', u'regreing', u'oonnen', u'zakentarief', u'vaae', u'reichsfront', u'wablief', u'wijbrandts']\n",
      "\n",
      "[u'hrt', u'h\\xe8t', u'bet', u'het', u'tiet', u'hef', u'hel', u'h\\xe9t', u'hei', u'hst']\n"
     ]
    }
   ],
   "source": [
    "words_from_inv_proj('hst')"
   ]
  },
  {
   "cell_type": "code",
   "execution_count": 112,
   "metadata": {
    "collapsed": false
   },
   "outputs": [
    {
     "data": {
      "text/plain": [
       "[<matplotlib.lines.Line2D at 0x7fbde8d032d0>]"
      ]
     },
     "execution_count": 112,
     "metadata": {},
     "output_type": "execute_result"
    },
    {
     "data": {
      "image/png": "[encoded data removed]",
      "text/plain": [
       "<matplotlib.figure.Figure at 0x7fbde90c9210>"
      ]
     },
     "metadata": {},
     "output_type": "display_data"
    }
   ],
   "source": [
    "plt.plot(sorted(np.dot(f.T, m1['appels'])))"
   ]
  },
  {
   "cell_type": "code",
   "execution_count": 113,
   "metadata": {
    "collapsed": false
   },
   "outputs": [
    {
     "data": {
      "text/plain": [
       "[<matplotlib.lines.Line2D at 0x7fbde93eb5d0>]"
      ]
     },
     "execution_count": 113,
     "metadata": {},
     "output_type": "execute_result"
    },
    {
     "data": {
      "image/png": "[encoded data removed]",
      "text/plain": [
       "<matplotlib.figure.Figure at 0x7fbde82531d0>"
      ]
     },
     "metadata": {},
     "output_type": "display_data"
    }
   ],
   "source": [
    "plt.plot(sorted(np.dot(f.T, m1['bert'])))"
   ]
  },
  {
   "cell_type": "code",
   "execution_count": 114,
   "metadata": {
    "collapsed": false
   },
   "outputs": [
    {
     "data": {
      "text/plain": [
       "[<matplotlib.lines.Line2D at 0x7fbde4874850>]"
      ]
     },
     "execution_count": 114,
     "metadata": {},
     "output_type": "execute_result"
    },
    {
     "data": {
      "image/png": "[encoded data removed]",
      "text/plain": [
       "<matplotlib.figure.Figure at 0x7fbd501c6510>"
      ]
     },
     "metadata": {},
     "output_type": "display_data"
    }
   ],
   "source": [
    "plt.plot(sorted(np.dot(f.T, m1['tegels'])))"
   ]
  },
  {
   "cell_type": "code",
   "execution_count": 115,
   "metadata": {
    "collapsed": false
   },
   "outputs": [
    {
     "data": {
      "text/plain": [
       "[<matplotlib.lines.Line2D at 0x7fbde7906a90>]"
      ]
     },
     "execution_count": 115,
     "metadata": {},
     "output_type": "execute_result"
    },
    {
     "data": {
      "image/png": "[encoded data removed]",
      "text/plain": [
       "<matplotlib.figure.Figure at 0x7fbde769c1d0>"
      ]
     },
     "metadata": {},
     "output_type": "display_data"
    }
   ],
   "source": [
    "plt.plot(sorted(np.dot(f.T, m1['verkiezing'])))"
   ]
  },
  {
   "cell_type": "code",
   "execution_count": 123,
   "metadata": {
    "collapsed": true
   },
   "outputs": [],
   "source": [
    "verkiezing = np.dot(f.T, m1['verkiezing'])"
   ]
  },
  {
   "cell_type": "code",
   "execution_count": 137,
   "metadata": {
    "collapsed": false
   },
   "outputs": [
    {
     "data": {
      "text/plain": [
       "<matplotlib.lines.Line2D at 0x7fbde8b571d0>"
      ]
     },
     "execution_count": 137,
     "metadata": {},
     "output_type": "execute_result"
    },
    {
     "data": {
      "image/png": "[encoded data removed]",
      "text/plain": [
       "<matplotlib.figure.Figure at 0x7fbde85b9310>"
      ]
     },
     "metadata": {},
     "output_type": "display_data"
    }
   ],
   "source": [
    "plt.plot(verkiezing)\n",
    "plt.axhline(5*verkiezing.std(), color='r')\n",
    "plt.axhline(-5*verkiezing.std(), color='r')"
   ]
  },
  {
   "cell_type": "code",
   "execution_count": 144,
   "metadata": {
    "collapsed": false
   },
   "outputs": [],
   "source": [
    "ix_verkiezing_gt5std = np.where(verkiezing > 5*verkiezing.std())\n",
    "print [m1.index2word[ix] for ix in ix_verkiezing_gt5std[0]]"
   ]
  },
  {
   "cell_type": "code",
   "execution_count": 167,
   "metadata": {
    "collapsed": false,
    "scrolled": true
   },
   "outputs": [
    {
     "name": "stdout",
     "output_type": "stream",
     "text": [
      "[u'fijn', u'leuk', u'mooi', u'heerlijk', u'aardig', u'prettig', u'plezierig', u'prachtig', u'goed', u'knap', u'geraffineerd', u'lekker', u'verrukkelijk', u'subtiel', u'schitterend', u'rauw', u'grappig', u'fijne', u'vervelend', u'uitstekend', u'raar', u'scherp', u'blij', u'voortreffelijk', u'ruw', u'zielig', u'eigenaardig', u'kostelijk', u'jammer', u'meesterlijk', u'na\\xefef', u'gemakkelijk', u'dwergmuisjes', u'aanlokkelijk', u'benieuwd', u'lief', u'fascinerend', u'voorzichtig', u'afschuwelijk', u'uitnemend', u'fris', u'zoet', u'dom', u'handig', u'heterogeen', u'simpel', u'fraai', u'onplezierig', u'lelijk', u'braaf']\n"
     ]
    }
   ],
   "source": [
    "ding = np.dot(f.T, m1['fijn'])\n",
    "ix_ding_gt5std = np.where(ding > 5*ding.std())\n",
    "ix_ding_gt5std_sorted = sorted(ix_ding_gt5std[0], key={ix: ding[ix] for ix in ix_ding_gt5std[0]}.get)\n",
    "print [m1.index2word[ix] for ix in ix_ding_gt5std_sorted][::-1][:50]"
   ]
  },
  {
   "cell_type": "code",
   "execution_count": 153,
   "metadata": {
    "collapsed": false
   },
   "outputs": [
    {
     "name": "stdout",
     "output_type": "stream",
     "text": [
      "(u'mooi', u'heerlijk', u'leuk', u'verrukkelijk', u'lekker', u'smakeloos', u'grappig', u'schattig', u'fijne', u'gesnipperd', u'f\\xfcn', u'aardig', u'fijngehakt', u'smeu\\xefg', u'heeriyk', u'zoetzure', u'mollig', u'rauw', u'beeldig', u'knapperig', u'geurig', u'zielig', u'vervelend', u'snoezig', u'rolrond', u'heerl\\xfck', u'aandoenlijk', u'radijsjes', u'croquant', u'voedzaam', u'mespuntje', u'moscovisch', u'zadeltje', u'uitgeknepen', u'doppertjes', u'biefstukje', u'vlakgom', u'levertjes', u'vlierthee', u'koddig', u'sappig', u'proza\\xefsch', u'besuikerd', u'geparfumeerd', u'reepje', u'smakelijk', u'lollig', u'stompzinnig', u'smerig', u'verwaand')\n"
     ]
    }
   ],
   "source": [
    "print zip(*m1.most_similar('fijn', topn=50))[0]"
   ]
  },
  {
   "cell_type": "code",
   "execution_count": 155,
   "metadata": {
    "collapsed": false
   },
   "outputs": [
    {
     "data": {
      "text/plain": [
       "{u'aardig', u'fijne', u'heerlijk', u'lekker', u'leuk', u'mooi'}"
      ]
     },
     "execution_count": 155,
     "metadata": {},
     "output_type": "execute_result"
    }
   ],
   "source": [
    "set([m1.index2word[ix] for ix in ix_ding_gt5std[0]][:50]).intersection(zip(*m1.most_similar('fijn', topn=50))[0])"
   ]
  },
  {
   "cell_type": "code",
   "execution_count": 169,
   "metadata": {
    "collapsed": false
   },
   "outputs": [
    {
     "name": "stdout",
     "output_type": "stream",
     "text": [
      "(u'aderverkalking', u'waterzucht', u'hypofyse', u'doofheid', u'hartkwalen', u'haaruitval', u'zenuwweefsel', u'stofwisseling', u'verkalking', u'bloedarmoede', u'vaatkrampen', u'pellagra', u'maagzweren', u'eczeem', u'misvormingen', u'caries', u'vitaminetekort', u'doofstomheid', u'vervorming', u'diarrhee', u'suikerziekte', u'maagaandoeningen', u'nierontsteking', u'aandoeningen', u'prikkelbaarheid', u'onderbetaling', u'bloeddruk', u'vaatwand', u'hormonale', u'spijsverteringsorganen', u'verlammingen', u'geestesziekten', u'kortademigheid', u'tuberkelbacil', u'ischias', u'epilepsie', u'hypertensie', u'rheumatiek', u'netelroos', u'migraine', u'vervormingen', u'misvorming', u'bedwateren', u'etterbacterie', u'geestesziekte', u'schildklier', u'allergische', u'infectieziekten', u'overbelichting', u'virussoort')\n"
     ]
    }
   ],
   "source": [
    "print zip(*m1.most_similar('vetzucht', topn=50))[0]"
   ]
  },
  {
   "cell_type": "code",
   "execution_count": 172,
   "metadata": {
    "collapsed": false
   },
   "outputs": [
    {
     "name": "stdout",
     "output_type": "stream",
     "text": [
      "(u'bowa', u'gedopte', u'boutb', u'contoil', u'boetne', u'357a', u'uetaa', u'middelgrof', u'paait', u'keilden', u'patengao', u'britamou', u'moutot', u'cnna', u'joneaal', u'raamscherm', u'armrost', u'laurierbladen', u'goodv', u'8140', u'vooitl', u'knfdm', u'6817', u'3538', u'stokvl', u'4t9', u'gctas', u'centx', u'vltaa', u'btso', u'0152', u'cmh', u'z5o', u'oooa', u'oogstkers', u'patengar', u'panaheotan', u'loee', u'gillettecv', u'inflon', u'fruehernte', u'contl', u'televxlec', u'oomm', u'handelsondern', u'3674', u'quakei', u'uzet', u'rttv', u'kattenland')\n"
     ]
    }
   ],
   "source": [
    "print zip(*m1.most_similar('framboos', topn=50))[0]"
   ]
  },
  {
   "cell_type": "code",
   "execution_count": 175,
   "metadata": {
    "collapsed": false
   },
   "outputs": [
    {
     "name": "stdout",
     "output_type": "stream",
     "text": [
      "(u'verduiveld', u'verdomd', u'opschepperig', u'allemachtig', u'bedonderd', u'verdomme', u'lollig', u'toelijken', u'verhole', u'kindlief', u'\\xe8rg', u'verduveld', u'begr\\xfcp', u'verzin', u'onuitstaanbaar', u'verschrikkelijk', u'mqar', u'knoeierig', u'kleinzielig', u'eerlyk', u'eerhjk', u'h00r', u'verwaand', u'humeurig', u'onbeschoft', u'eerl\\xfck', u'badoet', u'bliksems', u'stapelgek', u'tvtee', u'voorgelogen', u'geduimd', u'vreselijk', u'kortademig', u'akelig', u'vergeetachtig', u'flauwekul', u'nietwaar', u'stukkie', u'schijnheilig', u'smeuiig', u'huichelde', u'kamillenthee', u'\\xe9rg', u'beetjel', u'eeriyk', u'hatelijk', u'naampje', u'schryf', u'allemaal')\n"
     ]
    }
   ],
   "source": [
    "print zip(*m1.most_similar('verdraaid', topn=50))[0]"
   ]
  },
  {
   "cell_type": "code",
   "execution_count": 177,
   "metadata": {
    "collapsed": false
   },
   "outputs": [
    {
     "name": "stdout",
     "output_type": "stream",
     "text": [
      "(u'pijpenstelen', u'regende', u'hagelde', u'sneeuwde', u'sneeuwt', u'aardedonker', u'pikdonker', u'motregende', u'buiswater', u'druppelt', u'stortregende', u'gutst', u'bliksemde', u'pikkedonker', u'bladstil', u'kolkte', u'plassende', u'sterrenlicht', u'bermgras', u'siepelde', u'schemerdonker', u'halfdonker', u'drupt', u'schuimt', u'lamplicht', u'mistte', u'stortregenen', u'gebons', u'winterzonnetje', u'tochtte', u'stuurhuis', u'winderig', u'dikst', u'bintwerk', u'stikdonker', u'onweerde', u'terugzwemmen', u'zwerk', u'regengordijn', u'strijdrumoer', u'broeierig', u'dolboord', u'klotsend', u'ochtendlicht', u'neerstroomde', u'gebonk', u'rimpelloze', u'kletterde', u'getoeter', u'landwind')\n"
     ]
    }
   ],
   "source": [
    "print zip(*m1.most_similar('pijpestelen', topn=50))[0]"
   ]
  },
  {
   "cell_type": "code",
   "execution_count": 178,
   "metadata": {
    "collapsed": false
   },
   "outputs": [
    {
     "name": "stdout",
     "output_type": "stream",
     "text": [
      "(u'nederduits', u'hervormde', u'bonders', u'lutherse', u'vrljgem', u'kerkgebouw', u'slmonstraat', u'kerken', u'pastorie', u'gereformeerde', u'methodistische', u'vrouwendienst', u'episcopale', u'wijbr', u'wolfshoek', u'presbyteriaal', u'schledamsevest', u'paaskerk', u'rehobothkerk', u'schippersraad', u'augustana', u'nederduitse', u'remonstrantse', u'vrijgem', u'volkskerk', u'presbyteriaanse', u'gereformeer', u'strevelswijk', u'staatskerk', u'synodaal', u'zuidwijks', u'ge\\xefnstitueerde', u'protestantse', u'herv', u'anglicaanse', u'methodisten', u'kerkdienst', u'teugdraad', u'kevk', u'evangelische', u'heugerstr', u'vernieuwingsbeweging', u'episcopaalse', u'eredienst', u'bondsrichting', u'aelbrechtskolk', u'morgensterkerk', u'llndyer', u'bethelkerk', u'zendingsbond')\n"
     ]
    }
   ],
   "source": [
    "print zip(*m1.most_similar('kerk', topn=50))[0]"
   ]
  },
  {
   "cell_type": "code",
   "execution_count": 179,
   "metadata": {
    "collapsed": false
   },
   "outputs": [
    {
     "name": "stdout",
     "output_type": "stream",
     "text": [
      "(u'bonders', u'presbyteriaal', u'vrouwendienst', u'presbyteriaanse', u'gereformeerde', u'zendingsbond', u'hervormde', u'nederduitse', u'methodistische', u'baptistische', u'congregationalistische', u'gereformeer', u'synodocratische', u'mannenbond', u'schippersraad', u'synodaal', u'kerktype', u'kerk', u'episcopale', u'bondsrichting', u'vrijgemaakte', u'episcopaalse', u'paaskerk', u'lutherse', u'evangelische', u'vernieuwingsbeweging', u'teugdraad', u'diakonie\\xebn', u'zendende', u'modaliteitenkerk', u'dogmengeschiedenis', u'zendingscorporaties', u'anglicaanse', u'synodalistisch', u'methodisten', u'protestantse', u'presbyterianen', u'wijbr', u'modaliteit', u'augustana', u'dopperkerk', u'kerken', u'ge\\xefnstitueerde', u'doopsgezinde', u'jeugdouderling', u'meisjesverenigingen', u'bouwcorporatie', u'luthersen', u'zendingscommissies', u'rechtzinnige')\n"
     ]
    }
   ],
   "source": [
    "print zip(*m1.most_similar('nederduits', topn=50))[0]"
   ]
  },
  {
   "cell_type": "code",
   "execution_count": 181,
   "metadata": {
    "collapsed": false
   },
   "outputs": [
    {
     "name": "stdout",
     "output_type": "stream",
     "text": [
      "(u'gronings', u'drents', u'reddingbootcomit\\xe9', u'friese', u'dialect', u'friesch', u'limburgs', u'indonesisch', u'hollands', u'twents', u'westfries', u'rundveestamboek', u'zuidafrikaans', u'natuurhist', u'natuurh', u'bovenlands', u'paardenstamboek', u'veluws', u'knvbelftal', u'warmbloed', u'maleis', u'italiaans', u'zwartbont', u'reisvalies', u'nederlands', u'literair', u'streektaal', u'drentse', u'leervak', u'beugelsjees', u'javaans', u'voertaal', u'varkensstamboek', u'oostfries', u'volkssanatorium', u'groninger', u'jiddisj', u'handsmeedwerk', u'melkschaap', u'spaans', u'platduits', u'fokprodukt', u'reisvallies', u'spannennummer', u'documentenreproductie', u'stamboek', u'poarteboer', u'sallands', u'mvseum', u'c\\xf3stuum')\n"
     ]
    }
   ],
   "source": [
    "print zip(*m1.most_similar('fries', topn=50))[0]"
   ]
  },
  {
   "cell_type": "code",
   "execution_count": 182,
   "metadata": {
    "collapsed": false
   },
   "outputs": [
    {
     "name": "stdout",
     "output_type": "stream",
     "text": [
      "(u'sumatra', u'borneo', u'bengalen', u'celebes', u'radja', u'ceiebes', u'kalimantan', u'bornco', u'siiinatra', u'lava', u'bantam', u'blitar', u'bengkulu', u'kotabaru', u'riouw', u'kertosono', u'polydorus', u'xnten', u'ternate', u'garoet', u'sibaroet', u'bomeo', u'aeoeng', u'sommelsdyk', u'sumtra', u'poso', u'oobt', u'sumatia', u'jotta', u'snmatra', u'padang', u'ternat\\xe9', u'telrestas', u'indrapoera', u'modjokerto', u'ampenon', u'rotti', u'madoera', u'sumatrn', u'sumau', u'talisse', u'sutnatra', u'slamat', u'mataram', u'surrlento', u'singkep', u'cheribon', u'sorang', u'laertes', u'schtedyk')\n"
     ]
    }
   ],
   "source": [
    "print zip(*m1.most_similar('java', topn=50))[0]"
   ]
  },
  {
   "cell_type": "code",
   "execution_count": 185,
   "metadata": {
    "collapsed": false
   },
   "outputs": [
    {
     "name": "stdout",
     "output_type": "stream",
     "text": [
      "(u'slungelachtige', u'vangdraden', u'boomtak', u'sliert', u'handkoffertje', u'vadermoorder', u'jachtmes', u'meesleurde', u'slagtanden', u'meisjeshand', u'kanonskogel', u'camouflagejas', u'pyamabroek', u'stierennek', u'vrouwengestalte', u'hangkast', u'bunzing', u'worpjes', u'bontjasje', u'potvis', u'bontcape', u'rookpluim', u'broodmagere', u'bloemenkrans', u'ijsklomp', u'vlechtjes', u'tommygun', u'stuiter', u'broodkorst', u'galabia', u'gaspijp', u'kapperswinkel', u'kwartslag', u'stoppelbaard', u'bloedspoor', u'nachtpon', u'kenniswagen', u'yakhuid', u'paardekop', u'inktpot', u'toegooide', u'ploertendoder', u'ringslang', u'poncho', u'luchtkoker', u'hangsnor', u'huilbui', u'dwarsbalk', u'rugvin', u'gummislang')\n"
     ]
    }
   ],
   "source": [
    "print zip(*m1.most_similar('python', topn=50))[0]"
   ]
  }
 ],
 "metadata": {
  "kernelspec": {
   "display_name": "Python 2",
   "language": "python",
   "name": "python2"
  },
  "language_info": {
   "codemirror_mode": {
    "name": "ipython",
    "version": 2
   },
   "file_extension": ".py",
   "mimetype": "text/x-python",
   "name": "python",
   "nbconvert_exporter": "python",
   "pygments_lexer": "ipython2",
   "version": "2.7.11"
  }
 },
 "nbformat": 4,
 "nbformat_minor": 0
}
