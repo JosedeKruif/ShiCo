{
 "cells": [
  {
   "cell_type": "code",
   "execution_count": 1,
   "metadata": {
    "collapsed": false
   },
   "outputs": [],
   "source": [
    "%matplotlib inline"
   ]
  },
  {
   "cell_type": "code",
   "execution_count": 2,
   "metadata": {
    "collapsed": true
   },
   "outputs": [],
   "source": [
    "import matplotlib.pyplot as plt"
   ]
  },
  {
   "cell_type": "code",
   "execution_count": 3,
   "metadata": {
    "collapsed": false
   },
   "outputs": [],
   "source": [
    "import gensim"
   ]
  },
  {
   "cell_type": "code",
   "execution_count": 4,
   "metadata": {
    "collapsed": true
   },
   "outputs": [],
   "source": [
    "models_dn = '/home/patrick/projects/ShiCo Sprint/'"
   ]
  },
  {
   "cell_type": "code",
   "execution_count": 40,
   "metadata": {
    "collapsed": false
   },
   "outputs": [],
   "source": [
    "m1 = model_1950_10y = gensim.models.Word2Vec.load_word2vec_format(models_dn + '1950_1959.w2v',\n",
    "                                                                  fvocab=models_dn + '1950_1959.vocab.w2v',\n",
    "                                                                  binary=True)\n",
    "m2 = model_1951_10y = gensim.models.Word2Vec.load_word2vec_format(models_dn + '1951_1960.w2v',\n",
    "                                                                  fvocab=models_dn + '1951_1960.vocab.w2v',\n",
    "                                                                  binary=True)"
   ]
  },
  {
   "cell_type": "code",
   "execution_count": 41,
   "metadata": {
    "collapsed": false,
    "scrolled": true
   },
   "outputs": [
    {
     "data": {
      "text/plain": [
       "(692536, 749216)"
      ]
     },
     "execution_count": 41,
     "metadata": {},
     "output_type": "execute_result"
    }
   ],
   "source": [
    "len(model_1950_10y.vocab), len(model_1951_10y.vocab)"
   ]
  },
  {
   "cell_type": "code",
   "execution_count": 42,
   "metadata": {
    "collapsed": true
   },
   "outputs": [],
   "source": [
    "count1 = {key: val.count for key, val in m1.vocab.iteritems()}\n",
    "count2 = {key: val.count for key, val in m2.vocab.iteritems()}"
   ]
  },
  {
   "cell_type": "code",
   "execution_count": 43,
   "metadata": {
    "collapsed": false,
    "scrolled": false
   },
   "outputs": [],
   "source": [
    "vocab_count_sorted1 = sorted(count1, key=count1.get, reverse=True)\n",
    "vocab_count_sorted2 = sorted(count2, key=count2.get, reverse=True)"
   ]
  },
  {
   "cell_type": "code",
   "execution_count": 44,
   "metadata": {
    "collapsed": true
   },
   "outputs": [],
   "source": [
    "count_list1 = [count for word, count in count1.iteritems()]\n",
    "count_list2 = [count for word, count in count2.iteritems()]"
   ]
  },
  {
   "cell_type": "code",
   "execution_count": 45,
   "metadata": {
    "collapsed": false
   },
   "outputs": [
    {
     "data": {
      "text/plain": [
       "(355987241, 390568219)"
      ]
     },
     "execution_count": 45,
     "metadata": {},
     "output_type": "execute_result"
    }
   ],
   "source": [
    "np.sum(count_list1), np.sum(count_list2)"
   ]
  },
  {
   "cell_type": "code",
   "execution_count": 47,
   "metadata": {
    "collapsed": false,
    "scrolled": false
   },
   "outputs": [
    {
     "data": {
      "text/plain": [
       "[<matplotlib.lines.Line2D at 0x7f8eb7a1cf90>]"
      ]
     },
     "execution_count": 47,
     "metadata": {},
     "output_type": "execute_result"
    },
    {
     "data": {
      "image/png": "[encoded data removed]",
      "text/plain": [
       "<matplotlib.figure.Figure at 0x7f8eb7a1cf10>"
      ]
     },
     "metadata": {},
     "output_type": "display_data"
    }
   ],
   "source": [
    "plt.loglog(sorted(count_list1, reverse=True))\n",
    "plt.loglog(sorted(count_list2, reverse=True))"
   ]
  },
  {
   "cell_type": "code",
   "execution_count": 48,
   "metadata": {
    "collapsed": false
   },
   "outputs": [],
   "source": [
    "vocab_combined = list(set(model_1950_10y.vocab.keys()).union(set(model_1951_10y.vocab.keys())))"
   ]
  },
  {
   "cell_type": "code",
   "execution_count": 49,
   "metadata": {
    "collapsed": false
   },
   "outputs": [],
   "source": [
    "count_combined = []\n",
    "for w in vocab_combined:\n",
    "    try:\n",
    "        c1 = m1.vocab[w].count\n",
    "    except KeyError:\n",
    "        c1 = 0\n",
    "    try:\n",
    "        c2 = m2.vocab[w].count\n",
    "    except KeyError:\n",
    "        c2 = 0\n",
    "    count_combined.append(c1 + c2)"
   ]
  },
  {
   "cell_type": "code",
   "execution_count": 50,
   "metadata": {
    "collapsed": false
   },
   "outputs": [],
   "source": [
    "vocab_comb_sort = [x for y, x in sorted(zip(count_combined, vocab_combined), reverse=True)]\n",
    "count_comb_sort = sorted(count_combined, reverse=True)"
   ]
  },
  {
   "cell_type": "code",
   "execution_count": 51,
   "metadata": {
    "collapsed": false,
    "scrolled": false
   },
   "outputs": [
    {
     "data": {
      "text/plain": [
       "([u'de', u'van', u'het', u'en', u'een', u'in', u'te', u'op', u'dat', u'is'],\n",
       " [42186155,\n",
       "  22203733,\n",
       "  17081110,\n",
       "  14389867,\n",
       "  14226050,\n",
       "  13347968,\n",
       "  9786355,\n",
       "  7132927,\n",
       "  7104682,\n",
       "  6235311])"
      ]
     },
     "execution_count": 51,
     "metadata": {},
     "output_type": "execute_result"
    }
   ],
   "source": [
    "vocab_comb_sort[:10], count_comb_sort[:10]"
   ]
  },
  {
   "cell_type": "code",
   "execution_count": 53,
   "metadata": {
    "collapsed": false
   },
   "outputs": [
    {
     "data": {
      "text/plain": [
       "[<matplotlib.lines.Line2D at 0x7f8eb7dde550>]"
      ]
     },
     "execution_count": 53,
     "metadata": {},
     "output_type": "execute_result"
    },
    {
     "data": {
      "image/png": "[encoded data removed]",
      "text/plain": [
       "<matplotlib.figure.Figure at 0x7f8ebd207090>"
      ]
     },
     "metadata": {},
     "output_type": "display_data"
    }
   ],
   "source": [
    "plt.loglog(count_comb_sort)"
   ]
  },
  {
   "cell_type": "code",
   "execution_count": 54,
   "metadata": {
    "collapsed": false
   },
   "outputs": [],
   "source": [
    "soestdijk1 = m1.vocab['soestdijk']"
   ]
  },
  {
   "cell_type": "code",
   "execution_count": 57,
   "metadata": {
    "collapsed": false
   },
   "outputs": [
    {
     "data": {
      "text/plain": [
       "3246"
      ]
     },
     "execution_count": 57,
     "metadata": {},
     "output_type": "execute_result"
    }
   ],
   "source": [
    "soestdijk1.count"
   ]
  },
  {
   "cell_type": "code",
   "execution_count": 59,
   "metadata": {
    "collapsed": false
   },
   "outputs": [],
   "source": [
    "cum_count = np.cumsum(count_comb_sort)"
   ]
  },
  {
   "cell_type": "code",
   "execution_count": 99,
   "metadata": {
    "collapsed": false,
    "scrolled": true
   },
   "outputs": [
    {
     "data": {
      "text/plain": [
       "u'zich'"
      ]
     },
     "execution_count": 99,
     "metadata": {},
     "output_type": "execute_result"
    }
   ],
   "source": [
    "np.random.randint(cum_count.max())\n",
    "ix_rand = np.searchsorted(cum_count, )\n",
    "w_rand = vocab_comb_sort[ix_rand]\n",
    "w_rand"
   ]
  },
  {
   "cell_type": "code",
   "execution_count": 103,
   "metadata": {
    "collapsed": false
   },
   "outputs": [],
   "source": [
    "p_word_comb_sort = np.array(count_comb_sort) / float(np.sum(count_comb_sort))"
   ]
  },
  {
   "cell_type": "code",
   "execution_count": 162,
   "metadata": {
    "collapsed": true
   },
   "outputs": [],
   "source": [
    "N_val_words = 1000"
   ]
  },
  {
   "cell_type": "code",
   "execution_count": 163,
   "metadata": {
    "collapsed": false
   },
   "outputs": [],
   "source": [
    "val_words = list(np.random.choice(vocab_comb_sort, size=N_val_words, replace=False, p=p_word_comb_sort))"
   ]
  },
  {
   "cell_type": "code",
   "execution_count": 151,
   "metadata": {
    "collapsed": true
   },
   "outputs": [],
   "source": [
    "topN_sim = 50"
   ]
  },
  {
   "cell_type": "code",
   "execution_count": 152,
   "metadata": {
    "collapsed": false
   },
   "outputs": [],
   "source": [
    "def jaccard_similarity(set1, set2):\n",
    "    return len(set1.intersection(set2)) / float(len(set1.union(set2)))"
   ]
  },
  {
   "cell_type": "code",
   "execution_count": 157,
   "metadata": {
    "collapsed": true
   },
   "outputs": [],
   "source": [
    "p_word_comb_sort_dict = dict(zip(vocab_comb_sort, p_word_comb_sort))"
   ]
  },
  {
   "cell_type": "code",
   "execution_count": 165,
   "metadata": {
    "collapsed": false
   },
   "outputs": [],
   "source": [
    "val_p = []\n",
    "val_jaccard = []\n",
    "for val_word in val_words:\n",
    "    val_p.append(p_word_comb_sort_dict[val_word])\n",
    "\n",
    "    try:\n",
    "        sim_words1 = [word for word, _ in m1.most_similar(val_word, topn=topN_sim)]\n",
    "        sim_words2 = [word for word, _ in m2.most_similar(val_word, topn=topN_sim)]\n",
    "        val_jaccard.append(jaccard_similarity(set(sim_words1), set(sim_words2)))\n",
    "    except KeyError:\n",
    "        val_jaccard.append(0.)"
   ]
  },
  {
   "cell_type": "code",
   "execution_count": 171,
   "metadata": {
    "collapsed": false,
    "scrolled": true
   },
   "outputs": [
    {
     "data": {
      "text/plain": [
       "<matplotlib.text.Text at 0x7f8eb8900790>"
      ]
     },
     "execution_count": 171,
     "metadata": {},
     "output_type": "execute_result"
    },
    {
     "data": {
      "image/png": "[encoded data removed]",
      "text/plain": [
       "<matplotlib.figure.Figure at 0x7f8eb8900e50>"
      ]
     },
     "metadata": {},
     "output_type": "display_data"
    }
   ],
   "source": [
    "plt.semilogx(val_p, val_jaccard, '.')\n",
    "plt.xlabel('p(word)')\n",
    "plt.ylabel('jaccard similarity (top 50)')"
   ]
  },
  {
   "cell_type": "code",
   "execution_count": 173,
   "metadata": {
    "collapsed": false
   },
   "outputs": [],
   "source": [
    "import plotly.plotly as ply\n",
    "import plotly.graph_objs as plgo"
   ]
  },
  {
   "cell_type": "code",
   "execution_count": 182,
   "metadata": {
    "collapsed": false
   },
   "outputs": [
    {
     "data": {
      "text/html": [
       "<iframe id=\"igraph\" scrolling=\"no\" style=\"border:none;\" seamless=\"seamless\" src=\"https://plot.ly/~egpbos/17.embed\" height=\"700px\" width=\"100%\"></iframe>"
      ],
      "text/plain": [
       "<plotly.tools.PlotlyDisplay object>"
      ]
     },
     "execution_count": 182,
     "metadata": {},
     "output_type": "execute_result"
    }
   ],
   "source": [
    "trace0 = plgo.Scatter(\n",
    "  x=val_p,\n",
    "  y=val_jaccard,\n",
    "  text=val_words,\n",
    "  mode=\"markers\"\n",
    ")\n",
    "# trace1 = plgo.Scatter(\n",
    "#   x=[1, 2, 3, 4],\n",
    "#   y=[16, 5, 11, 9]\n",
    "# )\n",
    "data = plgo.Data([trace0,])#, trace1])\n",
    "layout = plgo.Layout(\n",
    "    xaxis=dict(\n",
    "        type='log',\n",
    "        autorange=True\n",
    "    ),\n",
    "    yaxis=dict(\n",
    "        type='lin',\n",
    "        autorange=True\n",
    "    ),\n",
    "    hovermode = 'closest',\n",
    "#     width=500,\n",
    "    height=700,\n",
    ")\n",
    "fig = plgo.Figure(data=data, layout=layout)\n",
    "ply.iplot(fig)\n",
    "\n",
    "# ply.iplot(data, filename = 'basic-line')"
   ]
  },
  {
   "cell_type": "code",
   "execution_count": null,
   "metadata": {
    "collapsed": true
   },
   "outputs": [],
   "source": []
  }
 ],
 "metadata": {
  "kernelspec": {
   "display_name": "Python 2",
   "language": "python",
   "name": "python2"
  },
  "language_info": {
   "codemirror_mode": {
    "name": "ipython",
    "version": 2
   },
   "file_extension": ".py",
   "mimetype": "text/x-python",
   "name": "python",
   "nbconvert_exporter": "python",
   "pygments_lexer": "ipython2",
   "version": "2.7.11"
  }
 },
 "nbformat": 4,
 "nbformat_minor": 0
}
